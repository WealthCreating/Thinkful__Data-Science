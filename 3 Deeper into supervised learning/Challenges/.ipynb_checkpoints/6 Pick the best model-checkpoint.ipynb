{
 "cells": [
  {
   "cell_type": "markdown",
   "metadata": {},
   "source": [
    "### You now have a fairly substantial starting toolbox of supervised learning methods that you can use to tackle a host of exciting problems. To make sure all of these ideas are organized in your mind, please go through the list of problems below. For each, identify which supervised learning method(s) would be best for addressing that particular problem.\n",
    "\n",
    "---"
   ]
  },
  {
   "cell_type": "markdown",
   "metadata": {},
   "source": [
    "**Predict the running times of prospective Olympic sprinters using data from the last 20 Olympics.**\n",
    "\n",
    "* Linear Regression - works best with continuous variables.  \n",
    "\n",
    "**You have more features (columns) than rows in your dataset.**\n",
    "\n",
    "* Feature Engineering/Selection - enables us to transform potential predictor variables into features, which may result in a more accurate outcome.\n",
    "\n",
    "**Identify the most important characteristic predicting likelihood of being jailed before age 20.**\n",
    "\n",
    "* Lasso Regression - fits a model to data while excluding one of the features, and if the model is \"good enough\", the excluded feature is deemed unnecessary.  \n",
    "\n",
    "**Implement a filter to “highlight” emails that might be important to the recipient**\n",
    "\n",
    "* Feature Selection - filter methods, a part of feature selection, are a great way to select relevant features that are likely to be related to the outcome.\n",
    "\n",
    "**You have 1000+ features.**\n",
    "\n",
    "* Principle Component Analysis - reduces complexity by reducing the set of variables to a smaller set of components that represent most of the information in the variables.\n",
    "\n",
    "**Predict whether someone who adds items to their cart on a website will purchase the items.**\n",
    "\n",
    "* Naive Bayes - relies on probabilities to calculate the probabalistic relationship between adding items to their cart and purchasing those items.\n",
    "\n",
    "**Your dataset dimensions are 982400 x 500**\n",
    "\n",
    "\n",
    "\n",
    "**Identify faces in an image.**\n",
    "\n",
    "\n",
    "\n",
    "**Predict which of three flavors of ice cream will be most popular with boys vs girls.**\n",
    "\n"
   ]
  },
  {
   "cell_type": "code",
   "execution_count": null,
   "metadata": {},
   "outputs": [],
   "source": []
  }
 ],
 "metadata": {
  "kernelspec": {
   "display_name": "Python 3",
   "language": "python",
   "name": "python3"
  },
  "language_info": {
   "codemirror_mode": {
    "name": "ipython",
    "version": 3
   },
   "file_extension": ".py",
   "mimetype": "text/x-python",
   "name": "python",
   "nbconvert_exporter": "python",
   "pygments_lexer": "ipython3",
   "version": "3.6.5"
  }
 },
 "nbformat": 4,
 "nbformat_minor": 2
}
