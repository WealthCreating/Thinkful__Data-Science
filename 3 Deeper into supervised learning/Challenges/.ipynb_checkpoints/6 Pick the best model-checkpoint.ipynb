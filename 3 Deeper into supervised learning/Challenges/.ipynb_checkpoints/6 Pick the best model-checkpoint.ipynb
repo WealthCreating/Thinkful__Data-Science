{
 "cells": [
  {
   "cell_type": "markdown",
   "metadata": {},
   "source": [
    "### You now have a fairly substantial starting toolbox of supervised learning methods that you can use to tackle a host of exciting problems. To make sure all of these ideas are organized in your mind, please go through the list of problems below. For each, identify which supervised learning method(s) would be best for addressing that particular problem.\n",
    "\n",
    "---"
   ]
  },
  {
   "cell_type": "markdown",
   "metadata": {},
   "source": [
    "**Predict the running times of prospective Olympic sprinters using data from the last 20 Olympics.**\n",
    "\n",
    "* Linear Regression - works best with continuous variables.  In the case of the sprinters, I imagine they progessively will run faster over time, but not enough to require logarithmic regression.\n",
    "\n",
    "**You have more features (columns) than rows in your dataset.**\n",
    "\n",
    "* SVM - uses model regularization to remove features with low impact on predictions, increasing C parameter\n",
    "\n",
    "**Identify the most important characteristic predicting likelihood of being jailed before age 20.**\n",
    "\n",
    "* Random forest - gives feature importance as a model outcome, so we can calculate which feature or \"characteristic\" has the largest impact.\n",
    "\n",
    "**Implement a filter to “highlight” emails that might be important to the recipient**\n",
    "\n",
    "* Naive Bayes - we can create a list of keywords that may indicate if the email is important, and create features that return a True/False of the keyword in the email.\n",
    "\n",
    "**You have 1000+ features.**\n",
    "\n",
    "* Lasso Regression - fits a model to data while excluding one of the features, and if the model is \"good enough\", the excluded feature is deemed unnecessary.  LASSO will combine feature selection and modeling.\n",
    "\n",
    "**Predict whether someone who adds items to their cart on a website will purchase the items.**\n",
    "\n",
    "* Naive Bayes - relies on probabilities to calculate the probabalistic relationship between adding items to their cart and purchasing those items.\n",
    "\n",
    "**Your dataset dimensions are 982400 x 500**\n",
    "\n",
    "* Lasso Regression\n",
    "\n",
    "**Identify faces in an image.**\n",
    "\n",
    "* Regularization\n",
    "\n",
    "**Predict which of three flavors of ice cream will be most popular with boys vs girls.**\n",
    "\n",
    "* SVM - creates a model that attempts to minimize the cumulative distance of points on the wrong side of the margin from the boundary, while maximizing the size of the margin.  \n"
   ]
  }
 ],
 "metadata": {
  "kernelspec": {
   "display_name": "Python 3",
   "language": "python",
   "name": "python3"
  },
  "language_info": {
   "codemirror_mode": {
    "name": "ipython",
    "version": 3
   },
   "file_extension": ".py",
   "mimetype": "text/x-python",
   "name": "python",
   "nbconvert_exporter": "python",
   "pygments_lexer": "ipython3",
   "version": "3.6.5"
  }
 },
 "nbformat": 4,
 "nbformat_minor": 2
}
