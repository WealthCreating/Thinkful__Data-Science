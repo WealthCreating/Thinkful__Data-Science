{
 "cells": [
  {
   "cell_type": "markdown",
   "metadata": {},
   "source": [
    "# Amazon Reviews\n",
    "\n",
    "Use one of the following [datasets](http://jmcauley.ucsd.edu/data/amazon/) to perform sentiment analysis on the given Amazon reviews. Pick one of the \"small\" datasets that is a reasonable size for your computer. The goal is to create a model to algorithmically predict if a review is positive or negative just based on its text. Try to see how these reviews compare across categories. Does a review classification model for one category work for another?\n",
    "\n",
    "---"
   ]
  },
  {
   "cell_type": "code",
   "execution_count": 1,
   "metadata": {},
   "outputs": [],
   "source": [
    "import numpy as np\n",
    "import pandas as pd\n",
    "import matplotlib.pyplot as plt\n",
    "import sklearn\n",
    "from datetime import datetime\n",
    "\n",
    "%matplotlib inline"
   ]
  },
  {
   "cell_type": "code",
   "execution_count": 25,
   "metadata": {},
   "outputs": [],
   "source": [
    "import pandas as pd\n",
    "import gzip\n",
    "\n",
    "file = 'C:/Users/Carter Carlson/Documents/Thinkful/Large Databases/Amazon beauty ratings.gz'\n",
    "file2 = 'C:/Users/Carter Carlson/Documents/Thinkful/Large Databases/Amazon videogame ratings.gz'\n",
    "\n",
    "def parse(path):\n",
    "    g = gzip.open(path, 'rb')\n",
    "    for l in g:\n",
    "        yield eval(l)\n",
    "        \n",
    "def getDF(path):\n",
    "    i = 0\n",
    "    df = {}\n",
    "    for d in parse(path):\n",
    "        df[i] = d\n",
    "        i += 1\n",
    "    return pd.DataFrame.from_dict(df, orient='index')"
   ]
  },
  {
   "cell_type": "code",
   "execution_count": 29,
   "metadata": {},
   "outputs": [],
   "source": [
    "df = getDF(file)\n",
    "df2 = getDF(file2)"
   ]
  },
  {
   "cell_type": "code",
   "execution_count": 30,
   "metadata": {},
   "outputs": [],
   "source": [
    "df = df.drop(columns=['reviewerID', 'asin', 'reviewerName', 'unixReviewTime', 'reviewTime', 'helpful', 'reviewText'])\n",
    "df2 = df2.drop(columns=['reviewerID', 'asin', 'reviewerName', 'unixReviewTime', 'reviewTime', 'helpful', 'reviewText'])"
   ]
  },
  {
   "cell_type": "code",
   "execution_count": 31,
   "metadata": {
    "scrolled": true
   },
   "outputs": [],
   "source": [
    "positive_words = ['great', 'perfect', 'awesome', 'happy', 'very good']\n",
    "negative_words = ['disappointed','lost','returned','bad','mad','angry','ruined','not','nasty']\n",
    "\n",
    "for key in positive_words:\n",
    "    df[str(key)] = df['summary'].str.contains(\n",
    "        str(key),\n",
    "        case=False)\n",
    "\n",
    "for key in positive_words:\n",
    "    df2[str(key)] = df2['summary'].str.contains(\n",
    "        str(key),\n",
    "        case=False)\n",
    "\n",
    "    \n",
    "for key in negative_words:\n",
    "    df[str(key)] = df['summary'].str.contains(\n",
    "        str(key),\n",
    "        case=False)\n",
    "    \n",
    "for key in negative_words:\n",
    "    df2[str(key)] = df2['summary'].str.contains(\n",
    "        str(key),\n",
    "        case=False)"
   ]
  },
  {
   "cell_type": "code",
   "execution_count": 32,
   "metadata": {},
   "outputs": [
    {
     "name": "stdout",
     "output_type": "stream",
     "text": [
      "Beauty\n",
      "Accuracy using positive words:   0.576976554392399\n",
      "Accuracy using negative words:   0.5905230174003284\n",
      "\n",
      "Videogames\n",
      "Accuracy using positive words:   0.51840969885236\n",
      "Accuracy using negative words:   0.5237941151091552\n"
     ]
    }
   ],
   "source": [
    "from sklearn.naive_bayes import BernoulliNB\n",
    "from sklearn.metrics import accuracy_score\n",
    "\n",
    "X = df[positive_words]\n",
    "Y = df['overall']\n",
    "\n",
    "bnb = BernoulliNB()\n",
    "bnb.fit(X, Y)\n",
    "y_pred = bnb.predict(X)\n",
    "\n",
    "print('Beauty')\n",
    "print('Accuracy using positive words:  ',accuracy_score(y_pred, Y))\n",
    "\n",
    "X = df[negative_words]\n",
    "bnb = BernoulliNB()\n",
    "bnb.fit(X, Y)\n",
    "y_pred = bnb.predict(X)\n",
    "print('Accuracy using negative words:  ',accuracy_score(y_pred, Y))\n",
    "\n",
    "X = df2[positive_words]\n",
    "Y = df2['overall']\n",
    "\n",
    "bnb = BernoulliNB()\n",
    "bnb.fit(X, Y)\n",
    "y_pred = bnb.predict(X)\n",
    "\n",
    "print('\\nVideogames')\n",
    "print('Accuracy using positive words:  ',accuracy_score(y_pred, Y))\n",
    "\n",
    "X = df2[negative_words]\n",
    "bnb = BernoulliNB()\n",
    "bnb.fit(X, Y)\n",
    "y_pred = bnb.predict(X)\n",
    "print('Accuracy using negative words:  ',accuracy_score(y_pred, Y))"
   ]
  }
 ],
 "metadata": {
  "kernelspec": {
   "display_name": "Python 3",
   "language": "python",
   "name": "python3"
  },
  "language_info": {
   "codemirror_mode": {
    "name": "ipython",
    "version": 3
   },
   "file_extension": ".py",
   "mimetype": "text/x-python",
   "name": "python",
   "nbconvert_exporter": "python",
   "pygments_lexer": "ipython3",
   "version": "3.6.5"
  }
 },
 "nbformat": 4,
 "nbformat_minor": 2
}
