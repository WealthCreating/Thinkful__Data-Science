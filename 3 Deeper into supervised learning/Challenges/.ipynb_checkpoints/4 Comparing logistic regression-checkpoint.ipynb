{
 "cells": [
  {
   "cell_type": "markdown",
   "metadata": {},
   "source": [
    "# Challenge\n",
    "\n",
    "Now that you have two new regression methods at your fingertips, it's time to give them a spin. In fact, for this challenge, let's put them together! Pick a dataset of your choice with a binary outcome and the potential for at least 15 features. If you're drawing a blank, the crime rates in 2013 dataset has a lot of variables that could be made into a modelable binary outcome.\n",
    "\n",
    "Engineer your features, then create three models. Each model will be run on a training set and a test-set (or multiple test-sets, if you take a folds approach). The models should be:\n",
    "1. Vanilla logistic regression\n",
    "2. Ridge logistic regression\n",
    "3. Lasso logistic regression\n",
    "\n",
    "In your report, evaluate all three models and decide on your best. Be clear about the decisions you made that led to these models **(feature selection, regularization parameter selection, model evaluation criteria)** and why you think that particular model is the best of the three. Also reflect on the strengths and limitations of regression as a modeling approach. Were there things you couldn't do but you wish you could have done?\n",
    "\n",
    "----"
   ]
  },
  {
   "cell_type": "code",
   "execution_count": 94,
   "metadata": {},
   "outputs": [],
   "source": [
    "import numpy as np\n",
    "import matplotlib.pyplot as plt\n",
    "import pandas as pd\n",
    "import seaborn as sns\n",
    "import statsmodels.api as sm\n",
    "from sklearn import linear_model\n",
    "from sklearn.model_selection import cross_val_score"
   ]
  },
  {
   "cell_type": "code",
   "execution_count": 96,
   "metadata": {},
   "outputs": [
    {
     "data": {
      "text/html": [
       "<div>\n",
       "<style>\n",
       "    .dataframe thead tr:only-child th {\n",
       "        text-align: right;\n",
       "    }\n",
       "\n",
       "    .dataframe thead th {\n",
       "        text-align: left;\n",
       "    }\n",
       "\n",
       "    .dataframe tbody tr th {\n",
       "        vertical-align: top;\n",
       "    }\n",
       "</style>\n",
       "<table border=\"1\" class=\"dataframe\">\n",
       "  <thead>\n",
       "    <tr style=\"text-align: right;\">\n",
       "      <th></th>\n",
       "      <th>Population</th>\n",
       "      <th>Violent crime</th>\n",
       "      <th>Murder</th>\n",
       "      <th>Robbery</th>\n",
       "      <th>Aggravated assault</th>\n",
       "      <th>Property crime</th>\n",
       "      <th>Burglary</th>\n",
       "      <th>Larceny-theft</th>\n",
       "      <th>Motor vehicle theft</th>\n",
       "      <th>Arson</th>\n",
       "    </tr>\n",
       "  </thead>\n",
       "  <tbody>\n",
       "    <tr>\n",
       "      <th>0</th>\n",
       "      <td>37378</td>\n",
       "      <td>40.0</td>\n",
       "      <td>True</td>\n",
       "      <td>5</td>\n",
       "      <td>26.0</td>\n",
       "      <td>640</td>\n",
       "      <td>97</td>\n",
       "      <td>527</td>\n",
       "      <td>16</td>\n",
       "      <td>5</td>\n",
       "    </tr>\n",
       "    <tr>\n",
       "      <th>1</th>\n",
       "      <td>878</td>\n",
       "      <td>0.0</td>\n",
       "      <td>False</td>\n",
       "      <td>0</td>\n",
       "      <td>0.0</td>\n",
       "      <td>5</td>\n",
       "      <td>0</td>\n",
       "      <td>5</td>\n",
       "      <td>0</td>\n",
       "      <td>0</td>\n",
       "    </tr>\n",
       "    <tr>\n",
       "      <th>2</th>\n",
       "      <td>1187</td>\n",
       "      <td>0.0</td>\n",
       "      <td>False</td>\n",
       "      <td>0</td>\n",
       "      <td>0.0</td>\n",
       "      <td>0</td>\n",
       "      <td>0</td>\n",
       "      <td>0</td>\n",
       "      <td>0</td>\n",
       "      <td>0</td>\n",
       "    </tr>\n",
       "    <tr>\n",
       "      <th>3</th>\n",
       "      <td>1975</td>\n",
       "      <td>0.0</td>\n",
       "      <td>False</td>\n",
       "      <td>0</td>\n",
       "      <td>0.0</td>\n",
       "      <td>33</td>\n",
       "      <td>8</td>\n",
       "      <td>22</td>\n",
       "      <td>3</td>\n",
       "      <td>1</td>\n",
       "    </tr>\n",
       "    <tr>\n",
       "      <th>4</th>\n",
       "      <td>29980</td>\n",
       "      <td>18.0</td>\n",
       "      <td>False</td>\n",
       "      <td>2</td>\n",
       "      <td>13.0</td>\n",
       "      <td>519</td>\n",
       "      <td>33</td>\n",
       "      <td>475</td>\n",
       "      <td>11</td>\n",
       "      <td>6</td>\n",
       "    </tr>\n",
       "  </tbody>\n",
       "</table>\n",
       "</div>"
      ],
      "text/plain": [
       "   Population  Violent crime  Murder  Robbery  Aggravated assault  \\\n",
       "0       37378           40.0    True        5                26.0   \n",
       "1         878            0.0   False        0                 0.0   \n",
       "2        1187            0.0   False        0                 0.0   \n",
       "3        1975            0.0   False        0                 0.0   \n",
       "4       29980           18.0   False        2                13.0   \n",
       "\n",
       "   Property crime  Burglary  Larceny-theft  Motor vehicle theft  Arson  \n",
       "0             640        97            527                   16      5  \n",
       "1               5         0              5                    0      0  \n",
       "2               0         0              0                    0      0  \n",
       "3              33         8             22                    3      1  \n",
       "4             519        33            475                   11      6  "
      ]
     },
     "execution_count": 96,
     "metadata": {},
     "output_type": "execute_result"
    }
   ],
   "source": [
    "df = pd.read_excel('4 Dataset.xlsx')\n",
    "df = df.drop(['Rape (revised definition)', 'Rape (legacy definition)', 'City'], axis=1)\n",
    "df = df.dropna()\n",
    "df = df.rename(columns={'Murder and nonnegligent manslaughter':'Murder'})\n",
    "\n",
    "for col in df[1:]:\n",
    "    col = pd.to_numeric(col, errors='coerce')\n",
    "\n",
    "\n",
    "df['Murder'] = df['Murder'].apply(lambda x: x > 0)\n",
    "df.head()"
   ]
  },
  {
   "cell_type": "code",
   "execution_count": 115,
   "metadata": {
    "collapsed": true
   },
   "outputs": [],
   "source": [
    "Y = df['Murder']\n",
    "X = df.drop('Murder', axis=1)\n",
    "\n",
    "def get_accuracy(classifier):\n",
    "    classifier.fit(X, Y)\n",
    "    accuracy = cross_val_score(classifier, X, Y, cv=10).mean()\n",
    "    return accuracy"
   ]
  },
  {
   "cell_type": "code",
   "execution_count": 116,
   "metadata": {},
   "outputs": [
    {
     "name": "stdout",
     "output_type": "stream",
     "text": [
      "0.869273309324\n",
      "0.149717390861\n",
      "0.151344990335\n"
     ]
    }
   ],
   "source": [
    "vanilla_regr = linear_model.LogisticRegression()\n",
    "ridge_regr = linear_model.Ridge()\n",
    "lasso_regr = linear_model.Lasso()\n",
    "\n",
    "print(get_accuracy(vanilla_regr))\n",
    "print(get_accuracy(ridge_regr))\n",
    "print(get_accuracy(lasso_regr))"
   ]
  }
 ],
 "metadata": {
  "kernelspec": {
   "display_name": "Python 3",
   "language": "python",
   "name": "python3"
  },
  "language_info": {
   "codemirror_mode": {
    "name": "ipython",
    "version": 3
   },
   "file_extension": ".py",
   "mimetype": "text/x-python",
   "name": "python",
   "nbconvert_exporter": "python",
   "pygments_lexer": "ipython3",
   "version": "3.6.3"
  }
 },
 "nbformat": 4,
 "nbformat_minor": 2
}
