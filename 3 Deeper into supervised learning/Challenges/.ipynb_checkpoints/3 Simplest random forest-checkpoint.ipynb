{
 "cells": [
  {
   "cell_type": "markdown",
   "metadata": {},
   "source": [
    "# Challenge: If a tree falls in the forest...\n",
    "\n",
    "Now that you've learned about random forests and decision trees let's do an exercise in accuracy. You know that random forests are basically a collection of decision trees. But how do the accuracies of the two models compare?\n",
    "\n",
    "So here's what you should do. Pick a dataset. It could be one you've worked with before or it could be a new one. Then build the best decision tree you can.\n",
    "\n",
    "Now try to match that with the simplest random forest you can. For our purposes measure simplicity with runtime. Compare that to the runtime of the decision tree. This is imperfect but just go with it.\n",
    "\n",
    "## Data Content\n",
    "\n",
    "This dataset contains information about fees assessed against properties in the state of New York, and is updated daily.  My decision tree will predict location of fee issued, based on these codes:\n",
    "\n",
    "* 1 = Manhattan\n",
    "* 2 = Bronx\n",
    "* 3 = Brooklyn\n",
    "* 4 = Queens\n",
    "* 5 = Staten Island\n",
    "\n",
    "---"
   ]
  },
  {
   "cell_type": "code",
   "execution_count": 1,
   "metadata": {
    "collapsed": true
   },
   "outputs": [],
   "source": [
    "import pandas as pd\n",
    "import numpy as np\n",
    "import matplotlib.pyplot as plt\n",
    "%matplotlib inline"
   ]
  },
  {
   "cell_type": "code",
   "execution_count": 2,
   "metadata": {
    "collapsed": true
   },
   "outputs": [],
   "source": [
    "# Office file location(file1) and personal file location(file2)\n",
    "file1 = 'C:/Users/ccarlsjh/Desktop/Important Files/Untitled Folder/Class/3 Deeper into supervised learning/Challenges/3 Dataset.csv'\n",
    "file2 = 'C:/Users/Carter Carlson/Documents/Thinkful/Classwork/3 Deeper into supervised learning/Challenges/3 Dataset.csv'\n",
    "\n",
    "try:\n",
    "    df = pd.read_csv(file1)\n",
    "except FileNotFoundError:\n",
    "    df = pd.read_csv(file2)"
   ]
  },
  {
   "cell_type": "code",
   "execution_count": 3,
   "metadata": {},
   "outputs": [
    {
     "data": {
      "text/html": [
       "<div>\n",
       "<style>\n",
       "    .dataframe thead tr:only-child th {\n",
       "        text-align: right;\n",
       "    }\n",
       "\n",
       "    .dataframe thead th {\n",
       "        text-align: left;\n",
       "    }\n",
       "\n",
       "    .dataframe tbody tr th {\n",
       "        vertical-align: top;\n",
       "    }\n",
       "</style>\n",
       "<table border=\"1\" class=\"dataframe\">\n",
       "  <thead>\n",
       "    <tr style=\"text-align: right;\">\n",
       "      <th></th>\n",
       "      <th>FeeID</th>\n",
       "      <th>BuildingID</th>\n",
       "      <th>BoroID</th>\n",
       "      <th>Boro</th>\n",
       "      <th>HouseNumber</th>\n",
       "      <th>StreetName</th>\n",
       "      <th>Zip</th>\n",
       "      <th>Block</th>\n",
       "      <th>Lot</th>\n",
       "      <th>LifeCycle</th>\n",
       "      <th>FeeTypeID</th>\n",
       "      <th>FeeType</th>\n",
       "      <th>FeeSourceTypeID</th>\n",
       "      <th>FeeSourceType</th>\n",
       "      <th>FeeSourceID</th>\n",
       "      <th>FeeIssuedDate</th>\n",
       "      <th>FeeAmount</th>\n",
       "      <th>DoFAccountType</th>\n",
       "      <th>DoFTransferDate</th>\n",
       "    </tr>\n",
       "  </thead>\n",
       "  <tbody>\n",
       "    <tr>\n",
       "      <th>0</th>\n",
       "      <td>441</td>\n",
       "      <td>183598</td>\n",
       "      <td>3</td>\n",
       "      <td>BROOKLYN</td>\n",
       "      <td>227</td>\n",
       "      <td>ALBANY AVENUE</td>\n",
       "      <td>11213.0</td>\n",
       "      <td>1370</td>\n",
       "      <td>14</td>\n",
       "      <td>Building</td>\n",
       "      <td>1</td>\n",
       "      <td>Initial Re-inspection Fee</td>\n",
       "      <td>51</td>\n",
       "      <td>PROJECT BLDG</td>\n",
       "      <td>30305</td>\n",
       "      <td>2008-05-23T00:00:00</td>\n",
       "      <td>2000.0</td>\n",
       "      <td>236</td>\n",
       "      <td>2008-06-20T00:00:00</td>\n",
       "    </tr>\n",
       "    <tr>\n",
       "      <th>1</th>\n",
       "      <td>442</td>\n",
       "      <td>381566</td>\n",
       "      <td>3</td>\n",
       "      <td>BROOKLYN</td>\n",
       "      <td>232</td>\n",
       "      <td>TOMPKINS AVENUE</td>\n",
       "      <td>11216.0</td>\n",
       "      <td>1785</td>\n",
       "      <td>39</td>\n",
       "      <td>Building</td>\n",
       "      <td>1</td>\n",
       "      <td>Initial Re-inspection Fee</td>\n",
       "      <td>51</td>\n",
       "      <td>PROJECT BLDG</td>\n",
       "      <td>30305</td>\n",
       "      <td>2008-05-23T00:00:00</td>\n",
       "      <td>1500.0</td>\n",
       "      <td>236</td>\n",
       "      <td>2008-06-20T00:00:00</td>\n",
       "    </tr>\n",
       "    <tr>\n",
       "      <th>2</th>\n",
       "      <td>443</td>\n",
       "      <td>330335</td>\n",
       "      <td>3</td>\n",
       "      <td>BROOKLYN</td>\n",
       "      <td>786</td>\n",
       "      <td>MACON STREET</td>\n",
       "      <td>11233.0</td>\n",
       "      <td>1497</td>\n",
       "      <td>18</td>\n",
       "      <td>Building</td>\n",
       "      <td>1</td>\n",
       "      <td>Initial Re-inspection Fee</td>\n",
       "      <td>51</td>\n",
       "      <td>PROJECT BLDG</td>\n",
       "      <td>30305</td>\n",
       "      <td>2008-05-23T00:00:00</td>\n",
       "      <td>1500.0</td>\n",
       "      <td>236</td>\n",
       "      <td>2008-06-20T00:00:00</td>\n",
       "    </tr>\n",
       "    <tr>\n",
       "      <th>3</th>\n",
       "      <td>444</td>\n",
       "      <td>357697</td>\n",
       "      <td>3</td>\n",
       "      <td>BROOKLYN</td>\n",
       "      <td>1109</td>\n",
       "      <td>PUTNAM AVENUE</td>\n",
       "      <td>11221.0</td>\n",
       "      <td>3366</td>\n",
       "      <td>54</td>\n",
       "      <td>Building</td>\n",
       "      <td>1</td>\n",
       "      <td>Initial Re-inspection Fee</td>\n",
       "      <td>51</td>\n",
       "      <td>PROJECT BLDG</td>\n",
       "      <td>30305</td>\n",
       "      <td>2008-05-23T00:00:00</td>\n",
       "      <td>1500.0</td>\n",
       "      <td>236</td>\n",
       "      <td>2008-06-20T00:00:00</td>\n",
       "    </tr>\n",
       "    <tr>\n",
       "      <th>4</th>\n",
       "      <td>445</td>\n",
       "      <td>381865</td>\n",
       "      <td>3</td>\n",
       "      <td>BROOKLYN</td>\n",
       "      <td>237</td>\n",
       "      <td>TROUTMAN STREET</td>\n",
       "      <td>11237.0</td>\n",
       "      <td>3174</td>\n",
       "      <td>42</td>\n",
       "      <td>Building</td>\n",
       "      <td>1</td>\n",
       "      <td>Initial Re-inspection Fee</td>\n",
       "      <td>51</td>\n",
       "      <td>PROJECT BLDG</td>\n",
       "      <td>30305</td>\n",
       "      <td>2008-05-23T00:00:00</td>\n",
       "      <td>3000.0</td>\n",
       "      <td>236</td>\n",
       "      <td>2008-06-20T00:00:00</td>\n",
       "    </tr>\n",
       "  </tbody>\n",
       "</table>\n",
       "</div>"
      ],
      "text/plain": [
       "   FeeID  BuildingID  BoroID      Boro HouseNumber       StreetName      Zip  \\\n",
       "0    441      183598       3  BROOKLYN         227    ALBANY AVENUE  11213.0   \n",
       "1    442      381566       3  BROOKLYN         232  TOMPKINS AVENUE  11216.0   \n",
       "2    443      330335       3  BROOKLYN         786     MACON STREET  11233.0   \n",
       "3    444      357697       3  BROOKLYN        1109    PUTNAM AVENUE  11221.0   \n",
       "4    445      381865       3  BROOKLYN         237  TROUTMAN STREET  11237.0   \n",
       "\n",
       "   Block  Lot LifeCycle  FeeTypeID                    FeeType  \\\n",
       "0   1370   14  Building          1  Initial Re-inspection Fee   \n",
       "1   1785   39  Building          1  Initial Re-inspection Fee   \n",
       "2   1497   18  Building          1  Initial Re-inspection Fee   \n",
       "3   3366   54  Building          1  Initial Re-inspection Fee   \n",
       "4   3174   42  Building          1  Initial Re-inspection Fee   \n",
       "\n",
       "   FeeSourceTypeID FeeSourceType  FeeSourceID        FeeIssuedDate  FeeAmount  \\\n",
       "0               51  PROJECT BLDG        30305  2008-05-23T00:00:00     2000.0   \n",
       "1               51  PROJECT BLDG        30305  2008-05-23T00:00:00     1500.0   \n",
       "2               51  PROJECT BLDG        30305  2008-05-23T00:00:00     1500.0   \n",
       "3               51  PROJECT BLDG        30305  2008-05-23T00:00:00     1500.0   \n",
       "4               51  PROJECT BLDG        30305  2008-05-23T00:00:00     3000.0   \n",
       "\n",
       "   DoFAccountType      DoFTransferDate  \n",
       "0             236  2008-06-20T00:00:00  \n",
       "1             236  2008-06-20T00:00:00  \n",
       "2             236  2008-06-20T00:00:00  \n",
       "3             236  2008-06-20T00:00:00  \n",
       "4             236  2008-06-20T00:00:00  "
      ]
     },
     "execution_count": 3,
     "metadata": {},
     "output_type": "execute_result"
    }
   ],
   "source": [
    "df = df.dropna()\n",
    "df.head()"
   ]
  },
  {
   "cell_type": "code",
   "execution_count": 4,
   "metadata": {},
   "outputs": [
    {
     "name": "stdout",
     "output_type": "stream",
     "text": [
      "Boro\n",
      "5\n",
      "HouseNumber\n",
      "3039\n",
      "StreetName\n",
      "1720\n",
      "LifeCycle\n",
      "4\n",
      "FeeType\n",
      "7\n",
      "FeeSourceType\n",
      "4\n",
      "FeeIssuedDate\n",
      "2927\n",
      "DoFTransferDate\n",
      "125\n"
     ]
    }
   ],
   "source": [
    "categorical = df.select_dtypes(include=['object'])\n",
    "for i in categorical:\n",
    "    column = categorical[i]\n",
    "    print(i)\n",
    "    print(column.nunique())"
   ]
  },
  {
   "cell_type": "code",
   "execution_count": 5,
   "metadata": {
    "collapsed": true
   },
   "outputs": [],
   "source": [
    "# We'll remove any features that have over 200 unique values,\n",
    "# and the Boro column that lists location by name instead of number\n",
    "df = df.drop(['HouseNumber','StreetName','FeeIssuedDate','Boro'], axis=1)\n",
    "\n",
    "# Also remove Zipcode and block number, as it will overfit the decision tree\n",
    "df = df.drop(['Zip','Block'], axis=1)"
   ]
  },
  {
   "cell_type": "code",
   "execution_count": 6,
   "metadata": {
    "collapsed": true
   },
   "outputs": [],
   "source": [
    "from sklearn.model_selection import cross_val_score\n",
    "def get_accuracy(classifier):\n",
    "    accuracy = cross_val_score(classifier, X, Y, cv=10).mean()\n",
    "    return accuracy"
   ]
  },
  {
   "cell_type": "code",
   "execution_count": 7,
   "metadata": {
    "collapsed": true
   },
   "outputs": [],
   "source": [
    "X = df.drop('BoroID', axis=1)\n",
    "Y = df['BoroID']\n",
    "X = pd.get_dummies(X)"
   ]
  },
  {
   "cell_type": "code",
   "execution_count": 8,
   "metadata": {},
   "outputs": [
    {
     "name": "stdout",
     "output_type": "stream",
     "text": [
      "Decision tree accuracy: 0.990\n",
      "Decision tree time to run: 2.33 seconds\n",
      "Random Decision tree accuracy: 0.749\n",
      "Random Decision tree time to run: 7.60 seconds\n"
     ]
    }
   ],
   "source": [
    "import time\n",
    "\n",
    "from sklearn import tree\n",
    "d_tree = tree.DecisionTreeClassifier()\n",
    "start_time = time.time()\n",
    "print('Decision tree accuracy: %0.3f' % get_accuracy(d_tree))\n",
    "print('Decision tree time to run: %1.2f seconds' % (time.time() - start_time))\n",
    "\n",
    "from sklearn import ensemble\n",
    "rfc = ensemble.RandomForestClassifier()\n",
    "start_time = time.time()\n",
    "print('Random Decision tree accuracy: %0.3f' % get_accuracy(rfc))\n",
    "print('Random Decision tree time to run: %1.2f seconds' % (time.time() - start_time))"
   ]
  }
 ],
 "metadata": {
  "kernelspec": {
   "display_name": "Python 3",
   "language": "python",
   "name": "python3"
  },
  "language_info": {
   "codemirror_mode": {
    "name": "ipython",
    "version": 3
   },
   "file_extension": ".py",
   "mimetype": "text/x-python",
   "name": "python",
   "nbconvert_exporter": "python",
   "pygments_lexer": "ipython3",
   "version": "3.6.3"
  }
 },
 "nbformat": 4,
 "nbformat_minor": 2
}
