{
 "cells": [
  {
   "cell_type": "markdown",
   "metadata": {},
   "source": [
    "# Challenge: Model Comparison\n",
    "   ---\n",
    "You now know two kinds of regression and two kinds of classifier. So let's use that to compare models!\n",
    "\n",
    "Comparing models is something data scientists do all the time. There's very rarely just one model that would be possible to run for a given situation, so learning to choose the best one is very important.\n",
    "\n",
    "Here let's work on regression. Find a data set and build a KNN Regression and an OLS regression. Compare the two. How similar are they? Do they miss in different ways?\n",
    "\n",
    "Create a Jupyter notebook with your models. At the end in a markdown cell write a few paragraphs to describe the models' behaviors and why you favor one model or the other. Try to determine whether there is a situation where you would change your mind, or whether one is unambiguously better than the other. Lastly, try to note what it is about the data that causes the better model to outperform the weaker model. Submit a link to your notebook below."
   ]
  },
  {
   "cell_type": "code",
   "execution_count": 41,
   "metadata": {
    "collapsed": true
   },
   "outputs": [],
   "source": [
    "import pandas as pd\n",
    "import numpy as np\n",
    "import matplotlib.pyplot as plt\n",
    "from sklearn import neighbors\n",
    "from sklearn import linear_model\n",
    "from sklearn.model_selection import cross_val_score\n",
    "import statsmodels.formula.api as smf\n",
    "%matplotlib inline"
   ]
  },
  {
   "cell_type": "code",
   "execution_count": 47,
   "metadata": {},
   "outputs": [
    {
     "data": {
      "text/plain": [
       "['Amount.Requested',\n",
       " 'Amount.Funded.By.Investors',\n",
       " 'Interest.Rate',\n",
       " 'Loan.Length',\n",
       " 'Loan.Purpose',\n",
       " 'Debt.To.Income.Ratio',\n",
       " 'State',\n",
       " 'Home.Ownership',\n",
       " 'Monthly.Income',\n",
       " 'FICO.Range',\n",
       " 'Open.CREDIT.Lines',\n",
       " 'Revolving.CREDIT.Balance',\n",
       " 'Inquiries.in.the.Last.6.Months',\n",
       " 'Employment.Length']"
      ]
     },
     "execution_count": 47,
     "metadata": {},
     "output_type": "execute_result"
    }
   ],
   "source": [
    "df = pd.read_csv('2 Dataset.csv')\n",
    "list(df)"
   ]
  },
  {
   "cell_type": "code",
   "execution_count": 48,
   "metadata": {},
   "outputs": [],
   "source": [
    "df.dropna(inplace=True)\n",
    "df['Debt.To.Income.Ratio'] = ([s.replace('%', '') for s in df['Debt.To.Income.Ratio']])\n",
    "df['Interest.Rate'] = ([s.replace('%', '') for s in df['Interest.Rate']])\n",
    "\n",
    "cols = ['Debt.To.Income.Ratio', 'Interest.Rate', 'Monthly.Income', 'Revolving.CREDIT.Balance']\n",
    "for c in cols:\n",
    "    df[c] = pd.to_numeric(df[c], errors='coerce')"
   ]
  },
  {
   "cell_type": "code",
   "execution_count": 63,
   "metadata": {},
   "outputs": [
    {
     "name": "stdout",
     "output_type": "stream",
     "text": [
      "KNN unweighted accuracy: -0.14 (+/- 0.24)\n",
      "KNN weighted accuracy: -0.20 (+/- 0.25)\n",
      "OLS weighted accuracy: 0.03\n"
     ]
    }
   ],
   "source": [
    "X = pd.DataFrame(df['Interest.Rate'])\n",
    "Y = df[['Debt.To.Income.Ratio', 'Monthly.Income', 'Revolving.CREDIT.Balance']]\n",
    "\n",
    "knn = neighbors.KNeighborsRegressor(n_neighbors=10)\n",
    "knn.fit(X, Y)\n",
    "score = cross_val_score(knn, X, Y, cv=5)\n",
    "\n",
    "knn_w = neighbors.KNeighborsRegressor(n_neighbors=10, weights='distance')\n",
    "knn_w.fit(X, Y)\n",
    "score_w = cross_val_score(knn_w, X, Y, cv=5)\n",
    "\n",
    "Y = df['Interest.Rate'].values.reshape(-1,1)\n",
    "X = df[['Debt.To.Income.Ratio', 'Monthly.Income', 'Revolving.CREDIT.Balance']]\n",
    "# Note: compare this X and Y to the X and Y for KNN - is there a reason for the differences?\n",
    "ols = linear_model.LinearRegression()\n",
    "ols.fit(X, Y)\n",
    "\n",
    "print('KNN unweighted accuracy: %0.2f (+/- %0.2f)' % (score.mean(), score.std() * 2))\n",
    "print('KNN weighted accuracy: %0.2f (+/- %0.2f)' % (score_w.mean(), score_w.std() * 2))\n",
    "print('OLS weighted accuracy: %0.2f' % ols.score(X, Y))"
   ]
  }
 ],
 "metadata": {
  "kernelspec": {
   "display_name": "Python 3",
   "language": "python",
   "name": "python3"
  },
  "language_info": {
   "codemirror_mode": {
    "name": "ipython",
    "version": 3
   },
   "file_extension": ".py",
   "mimetype": "text/x-python",
   "name": "python",
   "nbconvert_exporter": "python",
   "pygments_lexer": "ipython3",
   "version": "3.6.3"
  }
 },
 "nbformat": 4,
 "nbformat_minor": 2
}
