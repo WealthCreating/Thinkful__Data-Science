{
 "cells": [
  {
   "cell_type": "markdown",
   "metadata": {},
   "source": [
    "** Let's say we work at a credit card company and we're trying to figure out if people are going to pay their bills on time. We have everyone's purchases, split into four main categories: groceries, dining out, utilities, and entertainment. What are some ways you might use KNN to create this model? What aspects of KNN would be useful?**\n",
    "\n",
    "To analyze if people pay their bills on time, we could analyze the ratio of $ spent on entertainment and dining to groceries and utilities.  My prediction is someone that spends more money on optional expenses compared to necessary expenses may not be as fiscally responsible as someone that stays in on the weekends and rarely eats at restaurants.   We could also include a z-score for the fixed/variable cost ratio mentioned, since z-scores work well with continuous data and put everything in terms of how far they are from the mean."
   ]
  }
 ],
 "metadata": {
  "kernelspec": {
   "display_name": "Python 3",
   "language": "python",
   "name": "python3"
  },
  "language_info": {
   "codemirror_mode": {
    "name": "ipython",
    "version": 3
   },
   "file_extension": ".py",
   "mimetype": "text/x-python",
   "name": "python",
   "nbconvert_exporter": "python",
   "pygments_lexer": "ipython3",
   "version": "3.6.5"
  }
 },
 "nbformat": 4,
 "nbformat_minor": 2
}
