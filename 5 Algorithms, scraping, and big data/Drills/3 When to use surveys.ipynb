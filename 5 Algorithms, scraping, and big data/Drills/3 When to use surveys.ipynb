{
 "cells": [
  {
   "cell_type": "markdown",
   "metadata": {},
   "source": [
    "## State whether a survey would be the best option for answering each of the following questions.\n",
    "\n",
    "**Popularity of various Uber drivers.**\n",
    "Yes\n",
    "\n",
    "**A grocery store wants to know how much people like strawberry, chocolate, and vanilla ice cream.**\n",
    "Yes\n",
    "\n",
    "**Trojan wants to know whether their condoms are more popular among straight people or gay people.**\n",
    "Yes\n",
    "\n",
    "**Recently, rental rates for HappyCars have increased by 30%, which is quite unusual. You want to find out why this is happening and how to keep the increase going.**\n",
    "No\n",
    "\n",
    "**Assessing the success rate of a new advertising campaign.**\n",
    "Maybe\n",
    "\n",
    "**Measuring the effect of nurse/patient ratio on patient recovery rates in hospital wards.**\n",
    "Maybe"
   ]
  }
 ],
 "metadata": {
  "kernelspec": {
   "display_name": "Python 3",
   "language": "python",
   "name": "python3"
  },
  "language_info": {
   "codemirror_mode": {
    "name": "ipython",
    "version": 3
   },
   "file_extension": ".py",
   "mimetype": "text/x-python",
   "name": "python",
   "nbconvert_exporter": "python",
   "pygments_lexer": "ipython3",
   "version": "3.6.5"
  }
 },
 "nbformat": 4,
 "nbformat_minor": 2
}
