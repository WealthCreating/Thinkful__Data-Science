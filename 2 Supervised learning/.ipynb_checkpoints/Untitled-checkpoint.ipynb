{
 "cells": [
  {
   "cell_type": "markdown",
   "metadata": {},
   "source": [
    "# Preparing to model\n",
    "---"
   ]
  },
  {
   "cell_type": "markdown",
   "metadata": {},
   "source": [
    "We're ready to get started with machine learning. In this Unit and the next we'll cover **supervised learning**. This means all of our models will be trained to generate a certain outcome or dependent variable. This outcome is something we've observed in the past, and we want to be able to use new inputs to generate a prediction or better understand the underlying process. It could be something like sales, or whether or not an individual is going to contract a disease. The key is having an outcome we've previously observed that we want to understand in the future. We'll cover **unsupervised learning**, when we don't have a known outcome, in a following Unit.\n",
    "\n",
    "There is a lot of ground to cover in supervised learning. It will make up a large portion of the course. We'll start with classic models like Naive Bayes and Linear Regression, then move to more contemporary techniques like Random Forest, Support Vector Machines, and Boosting Models in the next Unit.\n",
    "\n",
    "When you're ready to get started, move to the next page."
   ]
  }
 ],
 "metadata": {
  "kernelspec": {
   "display_name": "Python 3",
   "language": "python",
   "name": "python3"
  },
  "language_info": {
   "codemirror_mode": {
    "name": "ipython",
    "version": 3
   },
   "file_extension": ".py",
   "mimetype": "text/x-python",
   "name": "python",
   "nbconvert_exporter": "python",
   "pygments_lexer": "ipython3",
   "version": "3.6.4"
  }
 },
 "nbformat": 4,
 "nbformat_minor": 2
}
