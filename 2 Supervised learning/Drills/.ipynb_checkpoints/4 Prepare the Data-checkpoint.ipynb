{
 "cells": [
  {
   "cell_type": "markdown",
   "metadata": {},
   "source": [
    "## DRILL: Prepare the Data\n",
    "\n",
    "[Download the Excel file here](https://ucr.fbi.gov/crime-in-the-u.s/2013/crime-in-the-u.s.-2013/tables/table-8/table-8-state-cuts/table_8_offenses_known_to_law_enforcement_new_york_by_city_2013.xls) on crime data in New York State in 2013, provided by the FBI: UCR ([Thinkful mirror](https://raw.githubusercontent.com/Thinkful-Ed/data-201-resources/master/New_York_offenses/NEW_YORK-Offenses_Known_to_Law_Enforcement_by_City_2013%20-%2013tbl8ny.csv)).\n",
    "\n",
    "Prepare this data to model with multivariable regression (including data cleaning if necessary) according to this specification:\n",
    "\n",
    "$$ Property crime = \\alpha + Population + Population^2 + Murder + Robbery$$\n",
    "\n",
    "The 'population' variable is already set for you, but you will need to create the last three features.  Robbery and Murder are currently continuous variables.  For this model, please use these variables to create  categorical features where values greater than 0 are coded 1, and values equal to 0 are coded 0.  You'll use this data and model in a later assignment- for now, just write the code you need to get the data ready.  Don't forget basic data cleaning procedures, either!  Do some graphing to see if there are any anomalous cases, and decide how you want to deal with them."
   ]
  },
  {
   "cell_type": "code",
   "execution_count": 2,
   "metadata": {},
   "outputs": [],
   "source": [
    "import pandas as pd\n",
    "import numpy as np\n",
    "from matplotlib import pyplot as plt\n",
    "from sklearn import linear_model\n",
    "%matplotlib inline\n",
    "import warnings\n",
    "warnings.filterwarnings(action='ignore', module='scipy', message='^internal gelsd')"
   ]
  },
  {
   "cell_type": "code",
   "execution_count": 10,
   "metadata": {},
   "outputs": [],
   "source": [
    "df = pd.read_excel('4 Dataset.xls')"
   ]
  },
  {
   "cell_type": "code",
   "execution_count": 11,
   "metadata": {},
   "outputs": [
    {
     "data": {
      "text/plain": [
       "['City',\n",
       " 'Population',\n",
       " 'Violent crime',\n",
       " 'Murder and nonnegligent manslaughter',\n",
       " 'Rape (revised definition)',\n",
       " 'Rape (legacy definition)',\n",
       " 'Robbery',\n",
       " 'Aggravated assault',\n",
       " 'Property crime',\n",
       " 'Burglary',\n",
       " 'Larceny-theft',\n",
       " 'Motor vehicle theft',\n",
       " 'Arson']"
      ]
     },
     "execution_count": 11,
     "metadata": {},
     "output_type": "execute_result"
    }
   ],
   "source": [
    "list(df)"
   ]
  },
  {
   "cell_type": "code",
   "execution_count": 13,
   "metadata": {},
   "outputs": [],
   "source": [
    "population = df['Population']\n",
    "murder = df['Murder and nonnegligent manslaughter']\n",
    "robbery = df['Robbery']"
   ]
  },
  {
   "cell_type": "code",
   "execution_count": 16,
   "metadata": {
    "scrolled": true
   },
   "outputs": [
    {
     "data": {
      "text/plain": [
       "Population\n",
       "9517.0       2\n",
       "8396126.0    1\n",
       "4625.0       1\n",
       "3749.0       1\n",
       "3805.0       1\n",
       "3818.0       1\n",
       "3847.0       1\n",
       "3862.0       1\n",
       "3991.0       1\n",
       "4065.0       1\n",
       "4079.0       1\n",
       "4089.0       1\n",
       "4124.0       1\n",
       "4188.0       1\n",
       "4233.0       1\n",
       "4285.0       1\n",
       "4337.0       1\n",
       "4354.0       1\n",
       "4503.0       1\n",
       "4523.0       1\n",
       "4574.0       1\n",
       "3733.0       1\n",
       "3683.0       1\n",
       "3642.0       1\n",
       "3324.0       1\n",
       "3012.0       1\n",
       "3036.0       1\n",
       "3043.0       1\n",
       "3064.0       1\n",
       "3118.0       1\n",
       "            ..\n",
       "16175.0      1\n",
       "16179.0      1\n",
       "16292.0      1\n",
       "16470.0      1\n",
       "17564.0      1\n",
       "17627.0      1\n",
       "17864.0      1\n",
       "17965.0      1\n",
       "14205.0      1\n",
       "14150.0      1\n",
       "13825.0      1\n",
       "13774.0      1\n",
       "11028.0      1\n",
       "11072.0      1\n",
       "11087.0      1\n",
       "11220.0      1\n",
       "11449.0      1\n",
       "11573.0      1\n",
       "11739.0      1\n",
       "12001.0      1\n",
       "12077.0      1\n",
       "12109.0      1\n",
       "12137.0      1\n",
       "12146.0      1\n",
       "12195.0      1\n",
       "12329.0      1\n",
       "13122.0      1\n",
       "13194.0      1\n",
       "13381.0      1\n",
       "526.0        1\n",
       "Name: Population, Length: 347, dtype: int64"
      ]
     },
     "execution_count": 16,
     "metadata": {},
     "output_type": "execute_result"
    }
   ],
   "source": [
    "df.groupby('Population')['Population'].count().sort_values(ascending=False)"
   ]
  },
  {
   "cell_type": "code",
   "execution_count": 21,
   "metadata": {
    "scrolled": true
   },
   "outputs": [
    {
     "data": {
      "text/plain": [
       "Murder and nonnegligent manslaughter\n",
       "0.0      299\n",
       "1.0       31\n",
       "2.0        4\n",
       "8.0        2\n",
       "7.0        2\n",
       "3.0        2\n",
       "335.0      1\n",
       "47.0       1\n",
       "42.0       1\n",
       "21.0       1\n",
       "10.0       1\n",
       "6.0        1\n",
       "5.0        1\n",
       "4.0        1\n",
       "Name: Murder and nonnegligent manslaughter, dtype: int64"
      ]
     },
     "execution_count": 21,
     "metadata": {},
     "output_type": "execute_result"
    }
   ],
   "source": [
    "df.groupby('Murder and nonnegligent manslaughter')['Murder and nonnegligent manslaughter'].count().sort_values(ascending=False)"
   ]
  },
  {
   "cell_type": "code",
   "execution_count": null,
   "metadata": {},
   "outputs": [],
   "source": [
    "df.groupby('Robbery')['Robbery'].count().sort_values(ascending=False)"
   ]
  }
 ],
 "metadata": {
  "kernelspec": {
   "display_name": "Python 3",
   "language": "python",
   "name": "python3"
  },
  "language_info": {
   "codemirror_mode": {
    "name": "ipython",
    "version": 3
   },
   "file_extension": ".py",
   "mimetype": "text/x-python",
   "name": "python",
   "nbconvert_exporter": "python",
   "pygments_lexer": "ipython3",
   "version": "3.6.4"
  }
 },
 "nbformat": 4,
 "nbformat_minor": 2
}
