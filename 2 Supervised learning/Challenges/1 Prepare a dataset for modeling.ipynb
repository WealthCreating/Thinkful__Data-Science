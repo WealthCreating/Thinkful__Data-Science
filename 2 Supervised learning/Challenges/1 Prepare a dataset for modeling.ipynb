{
 "cells": [
  {
   "cell_type": "markdown",
   "metadata": {},
   "source": [
    "## Using a dataset of your choice, select an outcome variable and then pick four or five other variables (one to two categorical, three to four continuous) to act as the basis for features. Explore the variables using the univariate and bivariate methods you've learned so far. \n",
    "---\n",
    "\n",
    "The **Trending Youtube Video Statistics** dataset on [Kaggle](https://www.kaggle.com/datasnaek/youtube-new) includes several months (and counting) of data on daily trending YouTube videos, with up to 200 listed trending videos per day.  Data includes the video title, channel title, publish time, tags, views, likes and dislikes, description, and comment count.  \n",
    "\n",
    "My analysis is limited to any video based in the US that is within two standard deviations of the average views.  Also, I will analyze category_titles that have an average of 1 million views."
   ]
  },
  {
   "cell_type": "code",
   "execution_count": 1,
   "metadata": {},
   "outputs": [],
   "source": [
    "import pandas as pd\n",
    "import numpy as np\n",
    "import matplotlib.pyplot as plt\n",
    "from scipy import stats\n",
    "import seaborn as sns\n",
    "import json\n",
    "%matplotlib inline"
   ]
  },
  {
   "cell_type": "code",
   "execution_count": 24,
   "metadata": {},
   "outputs": [],
   "source": [
    "file = \"C:/Users/Carter Carlson/Documents/Thinkful/Large Databases/Youtube/videos.csv\"\n",
    "df = pd.read_csv(file)\n",
    "variation = np.std(df['views'])\n",
    "mean = df['views'].mean()\n",
    "df = df[(df.views > mean - 2*variation) &\n",
    "        (df.views < mean + 2*variation)]\n",
    "\n",
    "file2 = 'C:/Users/Carter Carlson/Documents/Thinkful/Large Databases/Youtube/category_id.json'\n",
    "with open(file2) as data_file:\n",
    "    data = json.load(data_file)\n",
    "    \n",
    "num_list = []\n",
    "title_list = []\n",
    "for group in data['items']:\n",
    "    num = group['id']\n",
    "    title = group['snippet']['title']\n",
    "    num_list.append(num)\n",
    "    title_list.append(title)\n",
    "    \n",
    "cat_id_list = dict(zip(num_list, title_list))\n",
    "df['category_title'] = [cat_id_list[str(i)] for i in df['category_id']]"
   ]
  },
  {
   "cell_type": "code",
   "execution_count": 55,
   "metadata": {},
   "outputs": [],
   "source": [
    "# Only look at category_titles that had at least an average of 1 million views\n",
    "avg_views = df.groupby('category_title').mean()\n",
    "df1 = avg_views.loc[avg_views['views'] > 1000000][['category_id']]\n",
    "\n",
    "title_list = []\n",
    "for row in df1['category_id']:\n",
    "    title_list.append(row)\n",
    "\n",
    "    \n",
    "df = df.loc[df['category_id'].isin(title_list)]"
   ]
  },
  {
   "cell_type": "code",
   "execution_count": null,
   "metadata": {},
   "outputs": [],
   "source": []
  }
 ],
 "metadata": {
  "kernelspec": {
   "display_name": "Python 3",
   "language": "python",
   "name": "python3"
  },
  "language_info": {
   "codemirror_mode": {
    "name": "ipython",
    "version": 3
   },
   "file_extension": ".py",
   "mimetype": "text/x-python",
   "name": "python",
   "nbconvert_exporter": "python",
   "pygments_lexer": "ipython3",
   "version": "3.6.4"
  }
 },
 "nbformat": 4,
 "nbformat_minor": 2
}
