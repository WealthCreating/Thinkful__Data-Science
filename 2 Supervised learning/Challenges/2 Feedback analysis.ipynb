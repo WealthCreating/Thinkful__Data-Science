{
 "cells": [
  {
   "cell_type": "markdown",
   "metadata": {},
   "source": [
    "# Instructions\n",
    "### Now that you've spent some time tinkering with an example Naive Bayes Classifier, it's time to build your own.  \n",
    "\n",
    "### We will perform a sentiment analysis, classifying whether feedback left on a website is either positive or negative, for the website Yelp.  \n",
    "\n",
    "### Build your own classifier, and when you're satisfied with its performance, test it on one of the other datasets to see how well these kinds of classifiers translate from one context to another.\n",
    "---"
   ]
  },
  {
   "cell_type": "code",
   "execution_count": 1,
   "metadata": {},
   "outputs": [],
   "source": [
    "%matplotlib inline\n",
    "import numpy as np\n",
    "import pandas as pd\n",
    "import scipy\n",
    "import sklearn\n",
    "import matplotlib.pyplot as plt\n",
    "import seaborn as sns\n",
    "import sys"
   ]
  },
  {
   "cell_type": "code",
   "execution_count": 2,
   "metadata": {},
   "outputs": [],
   "source": [
    "# Grab and process the data\n",
    "data_path = 'C:/Users/Carter Carlson/Documents/Thinkful/Coursework/2 Supervised learning/Challenges/yelp_sentiment.txt'\n",
    "reviews = pd.read_csv(data_path, delimiter= '\\t', header=None)\n",
    "reviews.columns = ['sentence', 'satisfied']\n",
    "reviews['sentence'] = reviews['sentence'].str.lower()"
   ]
  },
  {
   "cell_type": "code",
   "execution_count": 3,
   "metadata": {},
   "outputs": [
    {
     "name": "stdout",
     "output_type": "stream",
     "text": [
      "           sentence\n",
      "satisfied          \n",
      "0               500\n",
      "1               500\n"
     ]
    }
   ],
   "source": [
    "print(reviews.groupby('satisfied').count())"
   ]
  },
  {
   "cell_type": "code",
   "execution_count": 4,
   "metadata": {},
   "outputs": [],
   "source": [
    "# Lets convert sentiment to boolean so we can prepare for modeling.\n",
    "reviews['satisfied'] = (reviews['satisfied'] == 1)"
   ]
  },
  {
   "cell_type": "code",
   "execution_count": 5,
   "metadata": {},
   "outputs": [],
   "source": [
    "negative_keywords = pd.Series(['disappointed','lost','returned','bad','mad','angry','ruined','not','nasty'])\n",
    "positive_keywords = ['s good','great','awesome','yum','s tasty','delicious','wow','loved']\n",
    "\n",
    "#reviews['negative_words'] = reviews['sentence'].str.contains(negative_keywords)\n",
    "reviews['negative_words'] = 0\n",
    "reviews['positive_words'] = 0\n",
    "for key in negative_keywords:    \n",
    "    reviews['negative_words'] += reviews['sentence'].str.count(key)\n",
    "\n",
    "for key in positive_keywords:\n",
    "    reviews['positive_words'] += reviews['sentence'].str.count(key)"
   ]
  },
  {
   "cell_type": "code",
   "execution_count": 9,
   "metadata": {},
   "outputs": [],
   "source": [
    "for key in negative_keywords:\n",
    "    reviews[str(key)] = reviews['sentence'].str.contains(key)"
   ]
  },
  {
   "cell_type": "code",
   "execution_count": 12,
   "metadata": {},
   "outputs": [],
   "source": [
    "for key in positive_keywords:\n",
    "    reviews[str(key)] = reviews['sentence'].str.contains(key)"
   ]
  },
  {
   "cell_type": "code",
   "execution_count": 13,
   "metadata": {},
   "outputs": [
    {
     "data": {
      "text/html": [
       "<div>\n",
       "<style scoped>\n",
       "    .dataframe tbody tr th:only-of-type {\n",
       "        vertical-align: middle;\n",
       "    }\n",
       "\n",
       "    .dataframe tbody tr th {\n",
       "        vertical-align: top;\n",
       "    }\n",
       "\n",
       "    .dataframe thead th {\n",
       "        text-align: right;\n",
       "    }\n",
       "</style>\n",
       "<table border=\"1\" class=\"dataframe\">\n",
       "  <thead>\n",
       "    <tr style=\"text-align: right;\">\n",
       "      <th></th>\n",
       "      <th>sentence</th>\n",
       "      <th>satisfied</th>\n",
       "      <th>negative_words</th>\n",
       "      <th>positive_words</th>\n",
       "      <th>disappointed</th>\n",
       "      <th>lost</th>\n",
       "      <th>returned</th>\n",
       "      <th>bad</th>\n",
       "      <th>mad</th>\n",
       "      <th>angry</th>\n",
       "      <th>...</th>\n",
       "      <th>not</th>\n",
       "      <th>nasty</th>\n",
       "      <th>s good</th>\n",
       "      <th>great</th>\n",
       "      <th>awesome</th>\n",
       "      <th>yum</th>\n",
       "      <th>s tasty</th>\n",
       "      <th>delicious</th>\n",
       "      <th>wow</th>\n",
       "      <th>loved</th>\n",
       "    </tr>\n",
       "  </thead>\n",
       "  <tbody>\n",
       "    <tr>\n",
       "      <th>0</th>\n",
       "      <td>wow... loved this place.</td>\n",
       "      <td>True</td>\n",
       "      <td>0</td>\n",
       "      <td>2</td>\n",
       "      <td>False</td>\n",
       "      <td>False</td>\n",
       "      <td>False</td>\n",
       "      <td>False</td>\n",
       "      <td>False</td>\n",
       "      <td>False</td>\n",
       "      <td>...</td>\n",
       "      <td>False</td>\n",
       "      <td>False</td>\n",
       "      <td>False</td>\n",
       "      <td>False</td>\n",
       "      <td>False</td>\n",
       "      <td>False</td>\n",
       "      <td>False</td>\n",
       "      <td>False</td>\n",
       "      <td>True</td>\n",
       "      <td>True</td>\n",
       "    </tr>\n",
       "    <tr>\n",
       "      <th>1</th>\n",
       "      <td>crust is not good.</td>\n",
       "      <td>False</td>\n",
       "      <td>1</td>\n",
       "      <td>0</td>\n",
       "      <td>False</td>\n",
       "      <td>False</td>\n",
       "      <td>False</td>\n",
       "      <td>False</td>\n",
       "      <td>False</td>\n",
       "      <td>False</td>\n",
       "      <td>...</td>\n",
       "      <td>True</td>\n",
       "      <td>False</td>\n",
       "      <td>False</td>\n",
       "      <td>False</td>\n",
       "      <td>False</td>\n",
       "      <td>False</td>\n",
       "      <td>False</td>\n",
       "      <td>False</td>\n",
       "      <td>False</td>\n",
       "      <td>False</td>\n",
       "    </tr>\n",
       "    <tr>\n",
       "      <th>2</th>\n",
       "      <td>not tasty and the texture was just nasty.</td>\n",
       "      <td>False</td>\n",
       "      <td>2</td>\n",
       "      <td>0</td>\n",
       "      <td>False</td>\n",
       "      <td>False</td>\n",
       "      <td>False</td>\n",
       "      <td>False</td>\n",
       "      <td>False</td>\n",
       "      <td>False</td>\n",
       "      <td>...</td>\n",
       "      <td>True</td>\n",
       "      <td>True</td>\n",
       "      <td>False</td>\n",
       "      <td>False</td>\n",
       "      <td>False</td>\n",
       "      <td>False</td>\n",
       "      <td>False</td>\n",
       "      <td>False</td>\n",
       "      <td>False</td>\n",
       "      <td>False</td>\n",
       "    </tr>\n",
       "    <tr>\n",
       "      <th>3</th>\n",
       "      <td>stopped by during the late may bank holiday of...</td>\n",
       "      <td>True</td>\n",
       "      <td>0</td>\n",
       "      <td>1</td>\n",
       "      <td>False</td>\n",
       "      <td>False</td>\n",
       "      <td>False</td>\n",
       "      <td>False</td>\n",
       "      <td>False</td>\n",
       "      <td>False</td>\n",
       "      <td>...</td>\n",
       "      <td>False</td>\n",
       "      <td>False</td>\n",
       "      <td>False</td>\n",
       "      <td>False</td>\n",
       "      <td>False</td>\n",
       "      <td>False</td>\n",
       "      <td>False</td>\n",
       "      <td>False</td>\n",
       "      <td>False</td>\n",
       "      <td>True</td>\n",
       "    </tr>\n",
       "    <tr>\n",
       "      <th>4</th>\n",
       "      <td>the selection on the menu was great and so wer...</td>\n",
       "      <td>True</td>\n",
       "      <td>0</td>\n",
       "      <td>1</td>\n",
       "      <td>False</td>\n",
       "      <td>False</td>\n",
       "      <td>False</td>\n",
       "      <td>False</td>\n",
       "      <td>False</td>\n",
       "      <td>False</td>\n",
       "      <td>...</td>\n",
       "      <td>False</td>\n",
       "      <td>False</td>\n",
       "      <td>False</td>\n",
       "      <td>True</td>\n",
       "      <td>False</td>\n",
       "      <td>False</td>\n",
       "      <td>False</td>\n",
       "      <td>False</td>\n",
       "      <td>False</td>\n",
       "      <td>False</td>\n",
       "    </tr>\n",
       "  </tbody>\n",
       "</table>\n",
       "<p>5 rows × 21 columns</p>\n",
       "</div>"
      ],
      "text/plain": [
       "                                            sentence  satisfied  \\\n",
       "0                           wow... loved this place.       True   \n",
       "1                                 crust is not good.      False   \n",
       "2          not tasty and the texture was just nasty.      False   \n",
       "3  stopped by during the late may bank holiday of...       True   \n",
       "4  the selection on the menu was great and so wer...       True   \n",
       "\n",
       "   negative_words  positive_words  disappointed   lost  returned    bad  \\\n",
       "0               0               2         False  False     False  False   \n",
       "1               1               0         False  False     False  False   \n",
       "2               2               0         False  False     False  False   \n",
       "3               0               1         False  False     False  False   \n",
       "4               0               1         False  False     False  False   \n",
       "\n",
       "     mad  angry  ...      not  nasty  s good  great  awesome    yum  s tasty  \\\n",
       "0  False  False  ...    False  False   False  False    False  False    False   \n",
       "1  False  False  ...     True  False   False  False    False  False    False   \n",
       "2  False  False  ...     True   True   False  False    False  False    False   \n",
       "3  False  False  ...    False  False   False  False    False  False    False   \n",
       "4  False  False  ...    False  False   False   True    False  False    False   \n",
       "\n",
       "   delicious    wow  loved  \n",
       "0      False   True   True  \n",
       "1      False  False  False  \n",
       "2      False  False  False  \n",
       "3      False  False   True  \n",
       "4      False  False  False  \n",
       "\n",
       "[5 rows x 21 columns]"
      ]
     },
     "execution_count": 13,
     "metadata": {},
     "output_type": "execute_result"
    }
   ],
   "source": [
    "reviews.head()"
   ]
  },
  {
   "cell_type": "code",
   "execution_count": 14,
   "metadata": {},
   "outputs": [
    {
     "data": {
      "text/plain": [
       "<matplotlib.axes._subplots.AxesSubplot at 0x2120bf6d2b0>"
      ]
     },
     "execution_count": 14,
     "metadata": {},
     "output_type": "execute_result"
    },
    {
     "data": {
      "image/png": "[encoded data removed]",
      "text/plain": [
       "<matplotlib.figure.Figure at 0x2120bf6d9b0>"
      ]
     },
     "metadata": {},
     "output_type": "display_data"
    }
   ],
   "source": [
    "sns.heatmap(reviews.corr())"
   ]
  },
  {
   "cell_type": "code",
   "execution_count": 22,
   "metadata": {},
   "outputs": [],
   "source": [
    "all_keywords = ['negative_words','positive_words','disappointed','lost','returned','bad','mad','angry','ruined','not','nasty','s good','great','awesome','yum','s tasty','delicious','wow','loved']\n",
    "data = reviews[all_keywords]\n",
    "target = reviews['satisfied']"
   ]
  },
  {
   "cell_type": "code",
   "execution_count": 23,
   "metadata": {},
   "outputs": [],
   "source": [
    "from sklearn.naive_bayes import BernoulliNB\n",
    "\n",
    "# instantiate model and store as new variable\n",
    "bnb = BernoulliNB()\n",
    "\n",
    "# fit model to data\n",
    "bnb.fit(data, target)\n",
    "\n",
    "y_pred = bnb.predict(data)"
   ]
  },
  {
   "cell_type": "code",
   "execution_count": 24,
   "metadata": {},
   "outputs": [
    {
     "name": "stdout",
     "output_type": "stream",
     "text": [
      "Percentage of reviews accurately identified as positive or negative : 0.616\n"
     ]
    }
   ],
   "source": [
    "counter = 0\n",
    "for i in range(0, len(y_pred)):\n",
    "    if y_pred[i] == reviews['satisfied'][i]:\n",
    "        counter += 1\n",
    "\n",
    "print(\"Percentage of reviews accurately identified as positive or negative : {}\".format(counter/len(y_pred)))"
   ]
  },
  {
   "cell_type": "code",
   "execution_count": null,
   "metadata": {},
   "outputs": [],
   "source": []
  }
 ],
 "metadata": {
  "kernelspec": {
   "display_name": "Python 3",
   "language": "python",
   "name": "python3"
  },
  "language_info": {
   "codemirror_mode": {
    "name": "ipython",
    "version": 3
   },
   "file_extension": ".py",
   "mimetype": "text/x-python",
   "name": "python",
   "nbconvert_exporter": "python",
   "pygments_lexer": "ipython3",
   "version": "3.6.5"
  }
 },
 "nbformat": 4,
 "nbformat_minor": 2
}
