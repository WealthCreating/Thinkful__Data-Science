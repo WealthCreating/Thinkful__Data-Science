{
 "cells": [
  {
   "cell_type": "markdown",
   "metadata": {},
   "source": [
    "## Using a dataset of your choice, select an outcome variable and then pick four or five other variables (one to two categorical, three to four continuous) to act as the basis for features. Explore the variables using the univariate and bivariate methods you've learned so far. \n",
    "---\n",
    "\n",
    "The **Trending Youtube Video Statistics** dataset on [Kaggle](https://www.kaggle.com/datasnaek/youtube-new) includes several months (and counting) of data on daily trending YouTube videos, with up to 200 listed trending videos per day.  Data includes the video title, channel title, publish time, tags, views, likes and dislikes, description, and comment count.  \n",
    "\n",
    "My analysis is limited to any video based in the US that is within two standard deviations of the average views.  Also, I will analyze category_titles that have an average of 1 million views."
   ]
  },
  {
   "cell_type": "code",
   "execution_count": 1,
   "metadata": {},
   "outputs": [],
   "source": [
    "import pandas as pd\n",
    "import numpy as np\n",
    "import matplotlib.pyplot as plt\n",
    "from scipy import stats\n",
    "import seaborn as sns\n",
    "import json\n",
    "%matplotlib inline\n",
    "sns.set_style('white')"
   ]
  },
  {
   "cell_type": "code",
   "execution_count": 2,
   "metadata": {},
   "outputs": [],
   "source": [
    "file = \"C:/Users/Carter Carlson/Documents/Thinkful/Large Databases/Youtube/videos.csv\"\n",
    "df = pd.read_csv(file)\n",
    "variation = np.std(df['views'])\n",
    "mean = df['views'].mean()\n",
    "df = df[(df.views > mean - 2*variation) &\n",
    "        (df.views < mean + 2*variation)]\n",
    "\n",
    "file2 = 'C:/Users/Carter Carlson/Documents/Thinkful/Large Databases/Youtube/category_id.json'\n",
    "with open(file2) as data_file:\n",
    "    data = json.load(data_file)\n",
    "    \n",
    "num_list = []\n",
    "title_list = []\n",
    "for group in data['items']:\n",
    "    num = group['id']\n",
    "    title = group['snippet']['title']\n",
    "    num_list.append(num)\n",
    "    title_list.append(title)\n",
    "    \n",
    "cat_id_list = dict(zip(num_list, title_list))\n",
    "df['category_title'] = [cat_id_list[str(i)] for i in df['category_id']]"
   ]
  },
  {
   "cell_type": "code",
   "execution_count": 3,
   "metadata": {},
   "outputs": [],
   "source": [
    "# Only look at category_titles that had at least an average of 1 million views\n",
    "avg_views = df.groupby('category_title').mean()\n",
    "df1 = avg_views.loc[avg_views['views'] > 1000000][['category_id']]\n",
    "\n",
    "title_list = []\n",
    "for row in df1['category_id']:\n",
    "    title_list.append(row)\n",
    "\n",
    "    \n",
    "df = df.loc[df['category_id'].isin(title_list),['category_id','views','likes','dislikes','comment_count']]"
   ]
  },
  {
   "cell_type": "code",
   "execution_count": 4,
   "metadata": {
    "collapsed": true
   },
   "outputs": [
    {
     "data": {
      "image/png": "[encoded data removed]",
      "text/plain": [
       "<matplotlib.figure.Figure at 0x176634bf400>"
      ]
     },
     "metadata": {},
     "output_type": "display_data"
    }
   ],
   "source": [
    "corrmat = df.corr()\n",
    "f, ax = plt.subplots(figsize=(12,9))\n",
    "sns.heatmap(corrmat, vmax=.8, square=True)\n",
    "plt.show()"
   ]
  },
  {
   "cell_type": "code",
   "execution_count": 5,
   "metadata": {
    "collapsed": true
   },
   "outputs": [
    {
     "name": "stderr",
     "output_type": "stream",
     "text": [
      "C:\\Anaconda3\\lib\\site-packages\\seaborn\\axisgrid.py:703: UserWarning: Using the boxplot function without specifying `order` is likely to produce an incorrect plot.\n",
      "  warnings.warn(warning)\n"
     ]
    },
    {
     "data": {
      "text/plain": [
       "<seaborn.axisgrid.FacetGrid at 0x17663994cf8>"
      ]
     },
     "execution_count": 5,
     "metadata": {},
     "output_type": "execute_result"
    },
    {
     "data": {
      "image/png": "[encoded data removed]",
      "text/plain": [
       "<matplotlib.figure.Figure at 0x17663a427f0>"
      ]
     },
     "metadata": {},
     "output_type": "display_data"
    }
   ],
   "source": [
    "df_box = df\n",
    "df_box = pd.melt(df_box, id_vars=['category_id'])\n",
    "\n",
    "g = sns.FacetGrid(df_box, col='category_id', size=4, aspect=.5)\n",
    "g = g.map(sns.boxplot, 'value')\n",
    "\n",
    "g.set(xlim=(0, 100000))\n",
    "\n",
    "# How do I make the box pots vertically?  How do I make them look like actual box plots?\n",
    "# example in - Documents/Practice/app/images/capture.JPG"
   ]
  },
  {
   "cell_type": "code",
   "execution_count": 6,
   "metadata": {},
   "outputs": [
    {
     "data": {
      "text/html": [
       "<div>\n",
       "<style scoped>\n",
       "    .dataframe tbody tr th:only-of-type {\n",
       "        vertical-align: middle;\n",
       "    }\n",
       "\n",
       "    .dataframe tbody tr th {\n",
       "        vertical-align: top;\n",
       "    }\n",
       "\n",
       "    .dataframe thead th {\n",
       "        text-align: right;\n",
       "    }\n",
       "</style>\n",
       "<table border=\"1\" class=\"dataframe\">\n",
       "  <thead>\n",
       "    <tr style=\"text-align: right;\">\n",
       "      <th></th>\n",
       "      <th>category_id</th>\n",
       "      <th>views</th>\n",
       "      <th>likes</th>\n",
       "      <th>dislikes</th>\n",
       "      <th>comment_count</th>\n",
       "    </tr>\n",
       "  </thead>\n",
       "  <tbody>\n",
       "    <tr>\n",
       "      <th>0</th>\n",
       "      <td>22</td>\n",
       "      <td>748374</td>\n",
       "      <td>57527</td>\n",
       "      <td>2966</td>\n",
       "      <td>15954</td>\n",
       "    </tr>\n",
       "    <tr>\n",
       "      <th>1</th>\n",
       "      <td>24</td>\n",
       "      <td>2418783</td>\n",
       "      <td>97185</td>\n",
       "      <td>6146</td>\n",
       "      <td>12703</td>\n",
       "    </tr>\n",
       "    <tr>\n",
       "      <th>2</th>\n",
       "      <td>23</td>\n",
       "      <td>3191434</td>\n",
       "      <td>146033</td>\n",
       "      <td>5339</td>\n",
       "      <td>8181</td>\n",
       "    </tr>\n",
       "    <tr>\n",
       "      <th>3</th>\n",
       "      <td>24</td>\n",
       "      <td>343168</td>\n",
       "      <td>10172</td>\n",
       "      <td>666</td>\n",
       "      <td>2146</td>\n",
       "    </tr>\n",
       "    <tr>\n",
       "      <th>4</th>\n",
       "      <td>24</td>\n",
       "      <td>2095731</td>\n",
       "      <td>132235</td>\n",
       "      <td>1989</td>\n",
       "      <td>17518</td>\n",
       "    </tr>\n",
       "  </tbody>\n",
       "</table>\n",
       "</div>"
      ],
      "text/plain": [
       "   category_id    views   likes  dislikes  comment_count\n",
       "0           22   748374   57527      2966          15954\n",
       "1           24  2418783   97185      6146          12703\n",
       "2           23  3191434  146033      5339           8181\n",
       "3           24   343168   10172       666           2146\n",
       "4           24  2095731  132235      1989          17518"
      ]
     },
     "execution_count": 6,
     "metadata": {},
     "output_type": "execute_result"
    }
   ],
   "source": [
    "# Exploring the data section - How to make that graph with this data?"
   ]
  },
  {
   "cell_type": "code",
   "execution_count": null,
   "metadata": {},
   "outputs": [],
   "source": [
    "df_2cat = df.loc[\n",
    "    \n",
    "]"
   ]
  }
 ],
 "metadata": {
  "kernelspec": {
   "display_name": "Python 3",
   "language": "python",
   "name": "python3"
  },
  "language_info": {
   "codemirror_mode": {
    "name": "ipython",
    "version": 3
   },
   "file_extension": ".py",
   "mimetype": "text/x-python",
   "name": "python",
   "nbconvert_exporter": "python",
   "pygments_lexer": "ipython3",
   "version": "3.6.4"
  }
 },
 "nbformat": 4,
 "nbformat_minor": 2
}
