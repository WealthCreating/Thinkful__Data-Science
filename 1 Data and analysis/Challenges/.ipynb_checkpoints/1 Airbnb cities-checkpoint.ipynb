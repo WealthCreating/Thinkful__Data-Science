{
 "cells": [
  {
   "cell_type": "markdown",
   "metadata": {},
   "source": [
    "### Now that you're comfortable with the SQLite database we provided for you, try spinning up your own. Let's use this data set from Airbnb. Pick a city and download the CSV's for that city. The SQLite browser has an import function for CSV's under the File menu.  Once you have your database set up, run some queries to start understanding your city's Airbnb's. Here are some questions you should try to answer:\n",
    "---"
   ]
  },
  {
   "cell_type": "markdown",
   "metadata": {},
   "source": [
    "#### What's the most expensive listing?  What else can you tell me about the listing?"
   ]
  },
  {
   "cell_type": "code",
   "execution_count": null,
   "metadata": {},
   "outputs": [],
   "source": [
    "select\n",
    "    price, COUNT(*)\n",
    "from\n",
    "    Airbnb\n",
    "group by\n",
    "    price\n",
    "order by\n",
    "    price desc\n",
    "limit  5"
   ]
  },
  {
   "cell_type": "markdown",
   "metadata": {},
   "source": [
    "There were 22 listings all priced at 10,000 dollars.  I picked the next listing at 9,999 dollars.  Here are some more facts about the listing.\n",
    "\n",
    "* Description: 'light rustic suburban duplex with a kitchen and xbox one. Couch is brown'\n",
    "* bathrooms: 1\n",
    "* bedrooms: 1\n",
    "\n",
    "I think this apartment was wrongly priced to get attention from Airbnb users.  I don't see any reasons why this location would charge 9,999 dollars for a one-bed, one-bath apartment."
   ]
  },
  {
   "cell_type": "markdown",
   "metadata": {},
   "source": [
    "#### What neighborhoods seem to be the most popular?"
   ]
  },
  {
   "cell_type": "code",
   "execution_count": null,
   "metadata": {},
   "outputs": [],
   "source": [
    "select\n",
    "    neighbourhood, count(*)\n",
    "from \n",
    "    Airbnb\n",
    "group by\n",
    "    neighbourhood\n",
    "order by\n",
    "    count(*) desc\n",
    "limit 5"
   ]
  },
  {
   "cell_type": "markdown",
   "metadata": {},
   "source": [
    "|neighbourhood| count(*)|\n",
    "| --- |--- |\n",
    "|    | 7599|\n",
    "|Mid-Wilshire|\t1909|\n",
    "|Hollywood | 1850|\n",
    "|Venice | 1653|\n",
    "|West Hollywood | 994 |"
   ]
  },
  {
   "cell_type": "markdown",
   "metadata": {},
   "source": [
    "#### What time of year is the cheapest time to go to your city?"
   ]
  },
  {
   "cell_type": "code",
   "execution_count": null,
   "metadata": {},
   "outputs": [],
   "source": [
    "select\n",
    "    strftime('%m', DATE(c.date)) month,\n",
    "    avg(price) price\n",
    "from \n",
    "    calendar c\n",
    "where\n",
    "    price > 0 and month is not null\n",
    "group by\n",
    "    month\n",
    "order by\n",
    "    price asc"
   ]
  },
  {
   "cell_type": "markdown",
   "metadata": {},
   "source": [
    "| month | price|\n",
    "| --- | --- |\n",
    "|03\t|6.51471525711857|\n",
    "|01\t|6.60682569888088|\n",
    "|05|\t6.62619927823255|"
   ]
  }
 ],
 "metadata": {
  "kernelspec": {
   "display_name": "Python 3",
   "language": "python",
   "name": "python3"
  },
  "language_info": {
   "codemirror_mode": {
    "name": "ipython",
    "version": 3
   },
   "file_extension": ".py",
   "mimetype": "text/x-python",
   "name": "python",
   "nbconvert_exporter": "python",
   "pygments_lexer": "ipython3",
   "version": "3.6.4"
  }
 },
 "nbformat": 4,
 "nbformat_minor": 2
}
