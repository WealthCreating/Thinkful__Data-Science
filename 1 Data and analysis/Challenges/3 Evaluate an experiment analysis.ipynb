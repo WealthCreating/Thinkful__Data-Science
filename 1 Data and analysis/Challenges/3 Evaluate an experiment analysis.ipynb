{
 "cells": [
  {
   "cell_type": "markdown",
   "metadata": {},
   "source": [
    "## Challenge: Evaluate an experiment analysis\n",
    "\n",
    "Now it's time to flex your critical evaluation skills. Read the following descriptions of an experiment and its analysis, identify the flaws in each, and describe what you would do to correct them.\n",
    "\n",
    "---"
   ]
  },
  {
   "cell_type": "markdown",
   "metadata": {},
   "source": [
    "#### 1. The Sith Lords are concerned that their recruiting slogan, \"Give In to Your Anger,\" isn't very effective. Darth Vader develops an alternative slogan, \"Together We Can Rule the Galaxy.\" They compare the slogans on two groups of 50 captured droids each. In one group, Emperor Palpatine delivers the \"Anger\" slogan. In the other, Darth Vader presents the \"Together\" slogan. 20 droids convert to the Dark Side after hearing Palpatine's slogan, while only 5 droids convert after hearing Vader's. The Sith's data scientist concludes that \"Anger\" is a more effective slogan and should continue to be used."
   ]
  },
  {
   "cell_type": "markdown",
   "metadata": {},
   "source": [
    "1. Small sample size - small sample results may not reflect population results\n",
    "    * solution: have a larger sample of droids\n",
    "2. Different interviewers - perhaps Darth Vader isn't as convincing as Emperor Palpatine\n",
    "    * solution- have one interviewer deliver the slogan to both groups.  Also make sure interviewer does not give visual cues on which slogan they like more.\n",
    "3. Selection bias - was the sample actually chosen at random?\n",
    "    * solution - test random droids captured from several universes."
   ]
  },
  {
   "cell_type": "markdown",
   "metadata": {},
   "source": [
    "#### 2. In the past, the Jedi have had difficulty with public relations. They send two envoys, Jar Jar Binks and Mace Windu, to four friendly and four unfriendly planets respectively, with the goal of promoting favorable feelings toward the Jedi. Upon their return, the envoys learn that Jar Jar was much more effective than Windu: Over 75% of the people surveyed said their attitudes had become more favorable after speaking with Jar Jar, while only 65% said their attitudes had become more favorable after speaking with Windu. This makes Windu angry, because he is sure that he had a better success rate than Jar Jar on every planet. The Jedi choose Jar Jar to be their representative in the future."
   ]
  },
  {
   "cell_type": "markdown",
   "metadata": {},
   "source": [
    "1. Planets visited - did Jar Jar Binks and Mace Windu visit the same planets? \n",
    "    * solution: make sure all planets visited are the same\n",
    "2. Bias - do the planets have a bias towards either envoy before they were visited?\n",
    "    * solution: before visiting planets, make sure the planet visited is one that Jar Jar and Mace Windu have not been to before, so overall sentiment towards them is neutral.\n",
    "3. Overall effectiveness - Jar Jar had a higher average success rate.  Maybe Jar Jar was more effective with friendly planets, and Mace Windu was more effective with unfriendly planets.  Was Jar Jar, on average, more successful with both friendly and unfriendly planets?\n",
    "    * solution: compare attitude % from friendly and unfriendly planets separately for both envoys.  Then select the envoy that was most successful with that group of planets."
   ]
  },
  {
   "cell_type": "markdown",
   "metadata": {},
   "source": [
    "#### 3. A company with work sites in five different countries has sent you data on employee satisfaction rates for workers in Human Resources and workers in Information Technology. Most HR workers are concentrated in three of the countries, while IT workers are equally distributed across worksites. The company requests a report on satisfaction for each job type. You calculate average job satisfaction for HR and for IT and present the report."
   ]
  },
  {
   "cell_type": "markdown",
   "metadata": {},
   "source": [
    "1. Average job satisfaction for HR workers will be skewed towards the results three higher concentrated countries.  For example- the 3 concentrated countries have 100k HR employees each, the other 2 countries have 1k HR employees.  The overall HR employees are 302k, so the mean will be closer towards the mean from the 300k HR employees, and not affected much by the remaining 2k employees. \n",
    "    * Solution - find the average job satisfaction for the HR workers in each country separately.  Then find the average of those averages."
   ]
  },
  {
   "cell_type": "markdown",
   "metadata": {},
   "source": [
    "#### 4. When people install the Happy Days Fitness Tracker app, they are asked to \"opt in\" to a data collection scheme where their level of physical activity data is automatically sent to the company for product research purposes. During your interview with the company, they tell you that the app is very effective because after installing the app, the data show that people's activity levels rise steadily. "
   ]
  },
  {
   "cell_type": "markdown",
   "metadata": {},
   "source": [
    "1. They are only tracking activity from people that \"opt in\" to the data collection.  Perhaps the people that didn't opt in are more lazy and make the overall activity levels decrease.\n",
    "    * solution: ?"
   ]
  },
  {
   "cell_type": "markdown",
   "metadata": {},
   "source": [
    "#### 5. To prevent cheating, a teacher writes three versions of a test. She stacks the three versions together, first all copies of Version A, then all copies of Version B, then all copies of Version C. As students arrive for the exam, each student takes a test. When grading the test, the teacher finds that students who took Version B scored higher than students who took either Version A or Version C. She concludes from this that Version B is easier, and discards it."
   ]
  },
  {
   "cell_type": "markdown",
   "metadata": {},
   "source": [
    "1. The versions were stacked together, so the first group of people all received the same test.  Usually people go with a friend to class, and sit next to the friend, and in this case it would mean they have the same test.\n",
    "    * solution: wait until everyone is seated, and distribute the same test in row going from front to back.  It's easy to look at the exam next to you and cheat, but near impossible to look at the test in front of you or behind you without getting caught.  \n",
    "2. The versions should have the same questions so each test is equally difficult.  Otherwise, the students with the easier test version have an advantage over the students without it.\n",
    "    * solution: have the same questions on the test for each version, with the questions and question choices in a different order."
   ]
  }
 ],
 "metadata": {
  "kernelspec": {
   "display_name": "Python 3",
   "language": "python",
   "name": "python3"
  },
  "language_info": {
   "codemirror_mode": {
    "name": "ipython",
    "version": 3
   },
   "file_extension": ".py",
   "mimetype": "text/x-python",
   "name": "python",
   "nbconvert_exporter": "python",
   "pygments_lexer": "ipython3",
   "version": "3.6.4"
  }
 },
 "nbformat": 4,
 "nbformat_minor": 2
}
