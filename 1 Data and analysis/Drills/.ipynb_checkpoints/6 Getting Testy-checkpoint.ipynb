{
 "cells": [
  {
   "cell_type": "markdown",
   "metadata": {},
   "source": [
    "## For each of the following questions, outline how you could use an A/B test to find an answer. Be sure to identify all five key components of an A/B test we outlined above."
   ]
  },
  {
   "cell_type": "markdown",
   "metadata": {},
   "source": [
    " ---\n",
    "### Does a new supplement help people sleep better?"
   ]
  },
  {
   "cell_type": "markdown",
   "metadata": {},
   "source": [
    "* **Two versions:**\n",
    "    1. Test group that does not take the supplement\n",
    "    2. Test group that does take the supplement\n",
    "* **Sample:**\n",
    "    * Random selection of people in different age groups\n",
    "* **Hypothesis:**\n",
    "    * Taking a new supplement will help you sleep better\n",
    "* **Outcome of interest:**\n",
    "    * Do people fall asleep quicker and wake up less overnight with the supplement?  Does taking the supplement allow for longer periods of \"deep\" sleep?\n",
    "* **Other variables:**\n",
    "    * Placebo affect: people may think that taking the supplement will help them sleep better, resulting in sleeping better even when the pill has benefits\n",
    "    * Location, temperature, lighting, time of when people go to sleep"
   ]
  },
  {
   "cell_type": "markdown",
   "metadata": {},
   "source": [
    "### Will new uniforms help a gym's business?"
   ]
  },
  {
   "cell_type": "markdown",
   "metadata": {},
   "source": [
    "* **Two versions:**\n",
    "    1. running the business with old uniforms\n",
    "    2. running the business with new uniforms \n",
    "* **Sample:**\n",
    "    * The customers that visit the business\n",
    "* **Hypothesis:**\n",
    "    * New uniforms will increases a gym's business\n",
    "* **Outcome of interest:**\n",
    "    * Business sales\n",
    "    * Business customers\n",
    "    * Business customer satisfaction\n",
    "* **Other variables:**\n",
    "    * Do employees treat their customers any different if they wear uniforms?\n",
    "    * Are there macroeconomical factors that may reduce/increase the business without changing uniforms?"
   ]
  },
  {
   "cell_type": "markdown",
   "metadata": {},
   "source": [
    "### Will a new homepage improve my online exotic pet rental business? "
   ]
  },
  {
   "cell_type": "markdown",
   "metadata": {},
   "source": [
    "* **Two versions:**\n",
    "    1. The old homepage\n",
    "    2. The new homepage\n",
    "* **Sample:**\n",
    "    * Customers that visit the website\n",
    "* **Hypothesis:**\n",
    "    * If my website has a new webpage, it will imporve my online exotic pet rental business\n",
    "* **Outcome of interest:**\n",
    "    * Business from customers using the old homepage compared to business from customers using the new homepage\n",
    "* **Other variables:**\n",
    "    * Do both webpages contain the same information for the same exotic pets?  If not, the page that doesn't display the exotic animal will have lower sales for the naimal than the page that does."
   ]
  },
  {
   "cell_type": "markdown",
   "metadata": {},
   "source": [
    "### If I put 'please read' in the email subject will more people read my emails? "
   ]
  },
  {
   "cell_type": "markdown",
   "metadata": {},
   "source": [
    "* **Two versions:**\n",
    "    1. emails without 'please read' in the email subject\n",
    "    2. emails with 'please read' in the email subject\n",
    "* **Sample:**\n",
    "    * The people that my emails are sent to\n",
    "* **Hypothesis:**\n",
    "    * If I put 'please read' in the email subject, more people will read my emails\n",
    "* **Outcome of interest:**\n",
    "    * number of responses from each sample group\n",
    "* **Other variables:**\n",
    "    * people in each sample- some people naturally respond more to emails than others\n",
    "    * is the content the email in each email group properly suited for the group?"
   ]
  }
 ],
 "metadata": {
  "kernelspec": {
   "display_name": "Python 3",
   "language": "python",
   "name": "python3"
  },
  "language_info": {
   "codemirror_mode": {
    "name": "ipython",
    "version": 3
   },
   "file_extension": ".py",
   "mimetype": "text/x-python",
   "name": "python",
   "nbconvert_exporter": "python",
   "pygments_lexer": "ipython3",
   "version": "3.6.4"
  }
 },
 "nbformat": 4,
 "nbformat_minor": 2
}
