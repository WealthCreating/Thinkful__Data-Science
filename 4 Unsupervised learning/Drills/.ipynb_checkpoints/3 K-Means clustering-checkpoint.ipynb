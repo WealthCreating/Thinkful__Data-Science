{
 "cells": [
  {
   "cell_type": "markdown",
   "metadata": {},
   "source": [
    "#### Create more or fewer blobs, and set the blobs closer together or farther apart. Set up at least three different blob configuations, then run the four methods ( kk -means, mean shift, spectral clustering and affinity propagation) on each one.\n",
    "\n",
    "---"
   ]
  },
  {
   "cell_type": "code",
   "execution_count": 1,
   "metadata": {},
   "outputs": [],
   "source": [
    "import numpy as np\n",
    "import pandas as pd\n",
    "import scipy\n",
    "import matplotlib.pyplot as plt\n",
    "import seaborn as sns\n",
    "%matplotlib inline"
   ]
  },
  {
   "cell_type": "code",
   "execution_count": 18,
   "metadata": {},
   "outputs": [
    {
     "data": {
      "image/png": "[encoded data removed]",
      "text/plain": [
       "<Figure size 432x288 with 3 Axes>"
      ]
     },
     "metadata": {},
     "output_type": "display_data"
    }
   ],
   "source": [
    "from sklearn.datasets.samples_generator import make_blobs\n",
    "from sklearn.model_selection import train_test_split\n",
    "\n",
    "# Make 10,000 rows worth of data with two features representing three\n",
    "# clusters, each having a standard deviation of 1.\n",
    "X1, y1 = make_blobs(\n",
    "    n_samples=10000,\n",
    "    centers=[[0, 0], [2, 2], [-4, 2]],\n",
    "    cluster_std=1,\n",
    "    n_features=3,\n",
    "    random_state=42)\n",
    "\n",
    "X2, y2 = make_blobs(\n",
    "    n_samples=10000,\n",
    "    centers=[[1, 5], [0, 15]],\n",
    "    cluster_std=.5,\n",
    "    n_features=10,\n",
    "    random_state=42)\n",
    "\n",
    "X3, y3 = make_blobs(\n",
    "    n_samples=10000,\n",
    "    centers=[[4, 5], [0, 10], [-2, -20],[-3, -15]],\n",
    "    cluster_std=2,\n",
    "    n_features=5,\n",
    "    random_state=42)\n",
    "\n",
    "plt.subplot(221)\n",
    "plt.scatter(X1[:, 0], X1[:, 1], c=y1)\n",
    "\n",
    "plt.subplot(222)\n",
    "plt.scatter(X2[:, 0], X2[:, 1], c=y2)\n",
    "\n",
    "plt.subplot(223)\n",
    "plt.scatter(X3[:, 0], X3[:, 1], c=y3)\n",
    "\n",
    "plt.show()"
   ]
  },
  {
   "cell_type": "code",
   "execution_count": 29,
   "metadata": {},
   "outputs": [
    {
     "name": "stdout",
     "output_type": "stream",
     "text": [
      "Blob # 1 \n",
      "\n",
      "K Means\n",
      "Number of estimated clusters: 8 \n",
      "\n",
      "Mean Shift\n",
      "Number of estimated clusters: 2 \n",
      "\n",
      "Affinity Propagation\n",
      "Number of estimated clusters: 28 \n",
      "\n",
      "------------------------------------------\n",
      "Blob # 2 \n",
      "\n",
      "K Means\n",
      "Number of estimated clusters: 8 \n",
      "\n",
      "Mean Shift\n",
      "Number of estimated clusters: 2 \n",
      "\n",
      "Affinity Propagation\n",
      "Number of estimated clusters: 308 \n",
      "\n",
      "------------------------------------------\n",
      "Blob # 3 \n",
      "\n",
      "K Means\n",
      "Number of estimated clusters: 8 \n",
      "\n",
      "Mean Shift\n",
      "Number of estimated clusters: 2 \n",
      "\n",
      "Affinity Propagation\n",
      "Number of estimated clusters: 18 \n",
      "\n",
      "------------------------------------------\n"
     ]
    }
   ],
   "source": [
    "from sklearn.cluster import KMeans\n",
    "from sklearn.cluster import MeanShift\n",
    "from sklearn.cluster import SpectralClustering\n",
    "from sklearn.cluster import AffinityPropagation\n",
    "\n",
    "regr1 = KMeans()\n",
    "regr2 = MeanShift()\n",
    "regr3 = AffinityPropagation()\n",
    "\n",
    "x_collection = [X1, X2, X3]\n",
    "y_collection = [y1, y2, y3]\n",
    "n_clusters = [3, 2, 4]\n",
    "\n",
    "regressions = [regr1, regr2, regr3]\n",
    "reg_names = ['K Means', 'Mean Shift', 'Affinity Propagation']\n",
    "\n",
    "for a in range(0, 3):\n",
    "    \n",
    "    X_train, X_test, y_train, y_test = train_test_split(\n",
    "        x_collection[a],\n",
    "        y_collection[a],\n",
    "        test_size=0.9,\n",
    "        random_state=42)\n",
    "    \n",
    "    print('Blob #', a + 1, '\\n')\n",
    "    for b in range(0, 3):\n",
    "        regr = regressions[b]\n",
    "        regr.fit(X_train)\n",
    "        labels = regr.labels_\n",
    "        cluster_centers = regr.cluster_centers_\n",
    "        \n",
    "        n_clusters_ = len(np.unique(labels))\n",
    "        print(reg_names[b])\n",
    "        print('Number of estimated clusters: {}'.format(n_clusters_), '\\n')\n",
    "    \n",
    "    print('------------------------------------------')"
   ]
  }
 ],
 "metadata": {
  "kernelspec": {
   "display_name": "Python 3",
   "language": "python",
   "name": "python3"
  },
  "language_info": {
   "codemirror_mode": {
    "name": "ipython",
    "version": 3
   },
   "file_extension": ".py",
   "mimetype": "text/x-python",
   "name": "python",
   "nbconvert_exporter": "python",
   "pygments_lexer": "ipython3",
   "version": "3.6.5"
  }
 },
 "nbformat": 4,
 "nbformat_minor": 2
}
