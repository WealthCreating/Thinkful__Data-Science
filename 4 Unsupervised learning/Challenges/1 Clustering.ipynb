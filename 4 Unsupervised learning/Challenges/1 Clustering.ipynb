{
 "cells": [
  {
   "cell_type": "markdown",
   "metadata": {},
   "source": [
    "# Challenge: Boston marathon\n",
    "\n",
    "---\n",
    "There is a lot of information on [runners and their performance for the Boston Marathon](https://github.com/llimllib/bostonmarathon). Pick a year (post-2012 has more info) and do some clustering.\n",
    "\n",
    "Specifically, use the tools at hand to determine which clustering solution, including number of clusters and algorithm used, is best for the marathon data. Once you have a solution you like, write a data story, including visualizations, where you teach the reader something about the Boston Marathon based on your clusters."
   ]
  },
  {
   "cell_type": "code",
   "execution_count": 1,
   "metadata": {},
   "outputs": [],
   "source": [
    "import pandas as pd\n",
    "import numpy as np\n",
    "import matplotlib.pyplot as plt\n",
    "import sklearn\n",
    "import scipy\n",
    "import seaborn as sns\n",
    "\n",
    "%matplotlib inline"
   ]
  },
  {
   "cell_type": "code",
   "execution_count": 5,
   "metadata": {},
   "outputs": [
    {
     "data": {
      "text/html": [
       "<div>\n",
       "<style scoped>\n",
       "    .dataframe tbody tr th:only-of-type {\n",
       "        vertical-align: middle;\n",
       "    }\n",
       "\n",
       "    .dataframe tbody tr th {\n",
       "        vertical-align: top;\n",
       "    }\n",
       "\n",
       "    .dataframe thead th {\n",
       "        text-align: right;\n",
       "    }\n",
       "</style>\n",
       "<table border=\"1\" class=\"dataframe\">\n",
       "  <thead>\n",
       "    <tr style=\"text-align: right;\">\n",
       "      <th></th>\n",
       "      <th>age</th>\n",
       "      <th>division</th>\n",
       "      <th>gender</th>\n",
       "      <th>official</th>\n",
       "      <th>country</th>\n",
       "      <th>overall</th>\n",
       "      <th>genderdiv</th>\n",
       "    </tr>\n",
       "  </thead>\n",
       "  <tbody>\n",
       "    <tr>\n",
       "      <th>0</th>\n",
       "      <td>28</td>\n",
       "      <td>9</td>\n",
       "      <td>M</td>\n",
       "      <td>90.90</td>\n",
       "      <td>CAN</td>\n",
       "      <td>9</td>\n",
       "      <td>9</td>\n",
       "    </tr>\n",
       "    <tr>\n",
       "      <th>1</th>\n",
       "      <td>30</td>\n",
       "      <td>5</td>\n",
       "      <td>M</td>\n",
       "      <td>132.50</td>\n",
       "      <td>KEN</td>\n",
       "      <td>5</td>\n",
       "      <td>5</td>\n",
       "    </tr>\n",
       "    <tr>\n",
       "      <th>2</th>\n",
       "      <td>23</td>\n",
       "      <td>1</td>\n",
       "      <td>M</td>\n",
       "      <td>130.37</td>\n",
       "      <td>ETH</td>\n",
       "      <td>1</td>\n",
       "      <td>1</td>\n",
       "    </tr>\n",
       "    <tr>\n",
       "      <th>3</th>\n",
       "      <td>32</td>\n",
       "      <td>5</td>\n",
       "      <td>M</td>\n",
       "      <td>88.43</td>\n",
       "      <td>AUS</td>\n",
       "      <td>5</td>\n",
       "      <td>5</td>\n",
       "    </tr>\n",
       "    <tr>\n",
       "      <th>4</th>\n",
       "      <td>39</td>\n",
       "      <td>3</td>\n",
       "      <td>M</td>\n",
       "      <td>87.22</td>\n",
       "      <td>JPN</td>\n",
       "      <td>3</td>\n",
       "      <td>3</td>\n",
       "    </tr>\n",
       "  </tbody>\n",
       "</table>\n",
       "</div>"
      ],
      "text/plain": [
       "   age  division gender  official country  overall  genderdiv\n",
       "0   28         9      M     90.90     CAN        9          9\n",
       "1   30         5      M    132.50     KEN        5          5\n",
       "2   23         1      M    130.37     ETH        1          1\n",
       "3   32         5      M     88.43     AUS        5          5\n",
       "4   39         3      M     87.22     JPN        3          3"
      ]
     },
     "execution_count": 5,
     "metadata": {},
     "output_type": "execute_result"
    }
   ],
   "source": [
    "try:\n",
    "    file = 'C:/Users/18047/Downloads/results.csv'\n",
    "    df = pd.read_csv(file)\n",
    "except:\n",
    "    file = ''\n",
    "    df = pd.read_csv(file)\n",
    "    \n",
    "df = df.drop(columns={'5k', '10k', '20k', '25k', '30k', '35k', '40k', 'name', 'city','state', 'ctz', 'bib', 'half', 'pace'})\n",
    "\n",
    "df.head()"
   ]
  },
  {
   "cell_type": "code",
   "execution_count": 6,
   "metadata": {},
   "outputs": [],
   "source": [
    "# Convert country from string to number\n",
    "\n",
    "counter = 1\n",
    "c_list = {}\n",
    "\n",
    "countries = set(df['country'])\n",
    "\n",
    "for c in countries:\n",
    "    c_list[c] = counter\n",
    "    counter += 1\n",
    "    \n",
    "df['country'] = list(map(c_list.get, df['country']))\n",
    "\n",
    "# Convert gender to boolean\n",
    "df['gender'] = (df['gender'] == 'M')\n",
    "df = df.rename(columns={'gender':'male'})"
   ]
  },
  {
   "cell_type": "code",
   "execution_count": 8,
   "metadata": {},
   "outputs": [
    {
     "name": "stdout",
     "output_type": "stream",
     "text": [
      "Number of clusters:  3\n"
     ]
    }
   ],
   "source": [
    "from sklearn.model_selection import train_test_split\n",
    "from sklearn.cluster import MeanShift, estimate_bandwidth\n",
    "\n",
    "X = df.drop('age', 1)\n",
    "Y = df['age']\n",
    "\n",
    "X_train, X_test, Y_train, Y_test = train_test_split(X, Y, test_size=0.9, random_state=42)\n",
    "\n",
    "bandwidth = estimate_bandwidth(X_train, quantile=0.2, n_samples=500)\n",
    "\n",
    "ms = MeanShift(bandwidth=bandwidth, bin_seeding=True)\n",
    "ms.fit(X_train)\n",
    "labels = ms.labels_\n",
    "\n",
    "n_clusters = len(np.unique(labels))\n",
    "print('Number of clusters: ', n_clusters)"
   ]
  },
  {
   "cell_type": "code",
   "execution_count": 14,
   "metadata": {},
   "outputs": [
    {
     "name": "stdout",
     "output_type": "stream",
     "text": [
      "[[0 0 0 ... 0 0 0]\n",
      " [0 0 0 ... 0 0 0]\n",
      " [0 0 0 ... 0 0 0]\n",
      " ...\n",
      " [1 0 0 ... 0 0 0]\n",
      " [1 0 0 ... 0 0 0]\n",
      " [1 0 0 ... 0 0 0]]\n"
     ]
    }
   ],
   "source": [
    "from sklearn.metrics import confusion_matrix\n",
    "from sklearn.preprocessing import normalize\n",
    "from sklearn.decomposition import PCA\n",
    "from sklearn.cluster import KMeans\n",
    "\n",
    "X_norm = normalize(X)\n",
    "\n",
    "X_pca = PCA(2).fit_transform(X_norm)\n",
    "\n",
    "y_pred = KMeans(n_clusters = n_clusters, random_state=42).fit_predict(X_pca)\n",
    "\n",
    "print(confusion_matrix(Y, y_pred))"
   ]
  },
  {
   "cell_type": "code",
   "execution_count": 15,
   "metadata": {},
   "outputs": [
    {
     "name": "stdout",
     "output_type": "stream",
     "text": [
      "age    18  19  20  21  22  23   24   25   26   27 ...  69  70  71  72  73  74  \\\n",
      "row_0                                             ...                           \n",
      "0       1   0   1   6   3   9    8   14   12   17 ...   8  10   2   4   3   0   \n",
      "1       5  14  22  33  53  98  152  153  167  205 ...   0   1   0   0   0   1   \n",
      "2       7  12  27  39  45  62   88  112  147  150 ...   0   0   0   0   0   0   \n",
      "\n",
      "age    75  76  78  80  \n",
      "row_0                  \n",
      "0       3   1   1   1  \n",
      "1       0   0   0   0  \n",
      "2       0   0   0   0  \n",
      "\n",
      "[3 rows x 61 columns]\n"
     ]
    }
   ],
   "source": [
    "print(pd.crosstab(y_pred, Y))"
   ]
  },
  {
   "cell_type": "code",
   "execution_count": null,
   "metadata": {},
   "outputs": [],
   "source": [
    "# Note: How can I analyze confusion matrix/crosstab?"
   ]
  }
 ],
 "metadata": {
  "kernelspec": {
   "display_name": "Python 3",
   "language": "python",
   "name": "python3"
  },
  "language_info": {
   "codemirror_mode": {
    "name": "ipython",
    "version": 3
   },
   "file_extension": ".py",
   "mimetype": "text/x-python",
   "name": "python",
   "nbconvert_exporter": "python",
   "pygments_lexer": "ipython3",
   "version": "3.6.5"
  }
 },
 "nbformat": 4,
 "nbformat_minor": 2
}
